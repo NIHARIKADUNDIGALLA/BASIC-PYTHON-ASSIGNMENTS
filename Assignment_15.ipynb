{
 "cells": [
  {
   "cell_type": "raw",
   "id": "7129f93d",
   "metadata": {},
   "source": [
    "1.What are the new features added in Python 3.8 version?\n",
    "Ans)Assignment expressions,argument types,f-strings,reverse() in dictionary are some of the new features added in Python 3.8 version."
   ]
  },
  {
   "cell_type": "raw",
   "id": "e47bb0ef",
   "metadata": {},
   "source": [
    "2)What is monkey patching in Python?\n",
    "Ans)monkey patching in Python refers to dynamic modifications of a class or module."
   ]
  },
  {
   "cell_type": "raw",
   "id": "eef1a8ec",
   "metadata": {},
   "source": [
    "3)What is the difference between a shallow copy and deep copy?\n",
    "Ans)Shallow copy gives the ouput when any changes are also made and deep copy doesn't change the values."
   ]
  },
  {
   "cell_type": "raw",
   "id": "3d12be93",
   "metadata": {},
   "source": [
    "4)What is the maximum possible length of an identifier?\n",
    "Ans)79 characters"
   ]
  },
  {
   "cell_type": "raw",
   "id": "7c3ae7c8",
   "metadata": {},
   "source": [
    "5)What is generator comprehension?\n",
    "Ans)generator comprehension is a single line of code written for defining generator."
   ]
  },
  {
   "cell_type": "code",
   "execution_count": null,
   "id": "688c2984",
   "metadata": {},
   "outputs": [],
   "source": []
  },
  {
   "cell_type": "code",
   "execution_count": null,
   "id": "ba8e05b1",
   "metadata": {},
   "outputs": [],
   "source": []
  }
 ],
 "metadata": {
  "kernelspec": {
   "display_name": "Python 3 (ipykernel)",
   "language": "python",
   "name": "python3"
  },
  "language_info": {
   "codemirror_mode": {
    "name": "ipython",
    "version": 3
   },
   "file_extension": ".py",
   "mimetype": "text/x-python",
   "name": "python",
   "nbconvert_exporter": "python",
   "pygments_lexer": "ipython3",
   "version": "3.9.7"
  }
 },
 "nbformat": 4,
 "nbformat_minor": 5
}
