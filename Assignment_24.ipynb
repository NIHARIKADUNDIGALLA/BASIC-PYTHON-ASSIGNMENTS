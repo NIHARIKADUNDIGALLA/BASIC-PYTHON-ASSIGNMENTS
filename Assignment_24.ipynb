{
 "cells": [
  {
   "cell_type": "raw",
   "id": "a29e878c",
   "metadata": {},
   "source": [
    "1)What is the relationship between def statements and lambda expressions ?\n",
    "\n",
    "Ans)\n",
    "def statements takes the object name and binds it with name and def functions break the program into smaller pieces.\n",
    "lambda expression consists a single expression in the body."
   ]
  },
  {
   "cell_type": "raw",
   "id": "74f404ac",
   "metadata": {},
   "source": [
    "2)What is the benefit of lambda?\n",
    "\n",
    "Ans)The benefit of lambda is it reduces the number of lines of code which is a single line expression."
   ]
  },
  {
   "cell_type": "markdown",
   "id": "7f338427",
   "metadata": {},
   "source": [
    "3)Compare and contrast map, filter, and reduce.\n",
    "\n",
    "Ans)\n",
    "If you already have a list of values and you want to do the exact same operation on each of the elements in \n",
    "the array and return the same amount of items in the list, in these type of situations it is better to use the map \n",
    "method.\n",
    "\n",
    "If you already have list of values but you only want to have items in the array that match certain criteria, \n",
    "in these type of situations it is better to use the filter method.\n",
    "\n",
    "If you already have list of values, but you want to use the values in that list to create something completely new,\n",
    "in these type of situations it is better to use the reduce method."
   ]
  },
  {
   "cell_type": "raw",
   "id": "327658f9",
   "metadata": {},
   "source": [
    "4)What are recursive functions, and how are they used?\n",
    "\n",
    "Ans)\n",
    "Recursive functions are functions that calls itself. It takes the condition to stop the recursion."
   ]
  },
  {
   "cell_type": "raw",
   "id": "4b01798e",
   "metadata": {},
   "source": [
    "5)What are some general design guidelines for coding functions?\n",
    "\n",
    "Ans)\n",
    "Use docstrings, indentation,no tab."
   ]
  },
  {
   "cell_type": "raw",
   "id": "3f1b9271",
   "metadata": {},
   "source": [
    "6)Name three or more ways that functions can communicate results to a caller.\n",
    "\n",
    "Ans)\n",
    "call,indentation,returns."
   ]
  }
 ],
 "metadata": {
  "kernelspec": {
   "display_name": "Python 3 (ipykernel)",
   "language": "python",
   "name": "python3"
  },
  "language_info": {
   "codemirror_mode": {
    "name": "ipython",
    "version": 3
   },
   "file_extension": ".py",
   "mimetype": "text/x-python",
   "name": "python",
   "nbconvert_exporter": "python",
   "pygments_lexer": "ipython3",
   "version": "3.9.7"
  }
 },
 "nbformat": 4,
 "nbformat_minor": 5
}
