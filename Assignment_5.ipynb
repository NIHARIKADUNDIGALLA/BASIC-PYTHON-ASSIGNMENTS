{
 "cells": [
  {
   "cell_type": "raw",
   "id": "0f934e06",
   "metadata": {},
   "source": [
    "1)What does an empty dictionary's code look like?\n",
    "\n",
    "Ans){}"
   ]
  },
  {
   "cell_type": "raw",
   "id": "f53a5c58",
   "metadata": {},
   "source": [
    "2)What is the value of a dictionary value with the key 'foo' and the value 42?\n",
    "\n",
    "Ans){'foo':42}"
   ]
  },
  {
   "cell_type": "raw",
   "id": "26aaa7b1",
   "metadata": {},
   "source": [
    "3)What is the most significant distinction between a dictionary and a list?\n",
    "\n",
    "Ans)dictionary consists of key and value pair and it values are accessed by keys.\n",
    "Lists are accessed by index."
   ]
  },
  {
   "cell_type": "raw",
   "id": "8166ed9c",
   "metadata": {},
   "source": [
    "4)What happens if you try to access spam['foo'] if spam is {'bar': 100}?\n",
    "\n",
    "Ans)it gives key error"
   ]
  },
  {
   "cell_type": "raw",
   "id": "ebefc777",
   "metadata": {},
   "source": [
    "5) If a dictionary is stored in spam, what is the difference between the expressions 'cat' in spam and 'cat'\n",
    "in spam.keys()?\n",
    "\n",
    "Ans)'cat' in spam.keys() checks whether in keys 'cat' is there or not . If it is there then it gives it value.\n",
    "'cat' in spam checks 'cat' in present or not .\n"
   ]
  },
  {
   "cell_type": "raw",
   "id": "1d019c9d",
   "metadata": {},
   "source": [
    "6) If a dictionary is stored in spam, what is the difference between the expressions 'cat' in spam \n",
    "and 'cat' in spam.values()?\n",
    "\n",
    "Ans)'cat' in spam checks 'cat' in present or not .\n",
    "'cat' in spam.values() checks whether in values 'cat' is there or not . "
   ]
  },
  {
   "cell_type": "raw",
   "id": "8a3396d6",
   "metadata": {},
   "source": [
    "7)How do you \"pretty print\" dictionary values using which module and function?\n",
    "\n",
    "Ans) Within the pprint module there is a function with the same name pprint()"
   ]
  },
  {
   "cell_type": "code",
   "execution_count": null,
   "id": "1c58cd1d",
   "metadata": {},
   "outputs": [],
   "source": []
  },
  {
   "cell_type": "code",
   "execution_count": null,
   "id": "c41a9615",
   "metadata": {},
   "outputs": [],
   "source": []
  },
  {
   "cell_type": "code",
   "execution_count": null,
   "id": "e40ecce8",
   "metadata": {},
   "outputs": [],
   "source": []
  }
 ],
 "metadata": {
  "kernelspec": {
   "display_name": "Python 3 (ipykernel)",
   "language": "python",
   "name": "python3"
  },
  "language_info": {
   "codemirror_mode": {
    "name": "ipython",
    "version": 3
   },
   "file_extension": ".py",
   "mimetype": "text/x-python",
   "name": "python",
   "nbconvert_exporter": "python",
   "pygments_lexer": "ipython3",
   "version": "3.9.7"
  }
 },
 "nbformat": 4,
 "nbformat_minor": 5
}
