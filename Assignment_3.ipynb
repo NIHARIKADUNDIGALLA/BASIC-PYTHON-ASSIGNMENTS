{
 "cells": [
  {
   "cell_type": "raw",
   "id": "31ee4310",
   "metadata": {},
   "source": [
    "1)Why are functions advantageous to have in your programs?\n",
    "\n",
    "Ans)Function advantage is reusability and reduce the need for duplicate code.We can call how many times we want and execute."
   ]
  },
  {
   "cell_type": "raw",
   "id": "f0cb4efa",
   "metadata": {},
   "source": [
    "2)When does the code in a function run:when it is specified or when it is called?\n",
    "    \n",
    "Ans)when it is called"
   ]
  },
  {
   "cell_type": "raw",
   "id": "6ed8bc31",
   "metadata": {},
   "source": [
    "3)What statement creates a function?\n",
    "\n",
    "Ans)def"
   ]
  },
  {
   "cell_type": "raw",
   "id": "7626bcc6",
   "metadata": {},
   "source": [
    "4)What is the difference between a function and a function call? \n",
    "\n",
    "Ans)A function is a structure of code for required output, where function call give the output for given input."
   ]
  },
  {
   "cell_type": "raw",
   "id": "b1c8de8e",
   "metadata": {},
   "source": [
    "5)How many global scopes are there in a python program?How many local scopes?\n",
    "\n",
    "Ans)One global scope and one local scope."
   ]
  },
  {
   "cell_type": "raw",
   "id": "e63c9610",
   "metadata": {},
   "source": [
    "6)What happens to variables in a local scope when the function call returns?\n",
    "\n",
    "Ans)variables are destroyed."
   ]
  },
  {
   "cell_type": "raw",
   "id": "9997aee3",
   "metadata": {},
   "source": [
    "7)What is the concept of a return statement,what is the return value of a call to that function?\n",
    "\n",
    "Ans)return statement use is, it gives the output what is present in return statement.\n",
    "The return value is based on the task performance, where it can be integer or string."
   ]
  },
  {
   "cell_type": "raw",
   "id": "b151b48c",
   "metadata": {},
   "source": [
    "8)If a function does not have a return statement,what is the return value of a call to that function?\n",
    "\n",
    "Ans)return value of a call is undefined."
   ]
  },
  {
   "cell_type": "raw",
   "id": "78895e55",
   "metadata": {},
   "source": [
    "9)How do you make a function variable refer to the global variable?\n",
    "\n",
    "Ans)By using global keyword."
   ]
  },
  {
   "cell_type": "raw",
   "id": "b01c92cf",
   "metadata": {},
   "source": [
    "10)What is the data type of None?\n",
    "\n",
    "Ans)Nonetype"
   ]
  },
  {
   "cell_type": "raw",
   "id": "b79da251",
   "metadata": {},
   "source": [
    "11)What does the sentence import do?\n",
    "\n",
    "Ans)import loads or brings the external source."
   ]
  },
  {
   "cell_type": "raw",
   "id": "f7ee0ce9",
   "metadata": {},
   "source": [
    "12)If you had a bacon() feature in a spam module,what would you call it after importing spam?\n",
    "\n",
    "Ans)spam.bacon()"
   ]
  },
  {
   "cell_type": "raw",
   "id": "a86a72b1",
   "metadata": {},
   "source": [
    "13)What can you do to save a programme from crashing if it encounters an error?\n",
    "\n",
    "Ans)We use error handling to save a program from crashing."
   ]
  },
  {
   "cell_type": "raw",
   "id": "c4103116",
   "metadata": {},
   "source": [
    "14)What is the purpose of the try clause?What is the purpose of the except clause?\n",
    "\n",
    "Ans)try clause is used when we expect or doubt to have an error.\n",
    "except clause handles the error . except block executes, if there is an error in try block."
   ]
  },
  {
   "cell_type": "code",
   "execution_count": null,
   "id": "425dac88",
   "metadata": {},
   "outputs": [],
   "source": []
  },
  {
   "cell_type": "code",
   "execution_count": null,
   "id": "8e6ca2cb",
   "metadata": {},
   "outputs": [],
   "source": []
  },
  {
   "cell_type": "code",
   "execution_count": null,
   "id": "2b4a5134",
   "metadata": {},
   "outputs": [],
   "source": []
  },
  {
   "cell_type": "code",
   "execution_count": null,
   "id": "3459f447",
   "metadata": {},
   "outputs": [],
   "source": []
  },
  {
   "cell_type": "code",
   "execution_count": null,
   "id": "4788ff28",
   "metadata": {},
   "outputs": [],
   "source": []
  },
  {
   "cell_type": "code",
   "execution_count": null,
   "id": "d202aa62",
   "metadata": {},
   "outputs": [],
   "source": []
  },
  {
   "cell_type": "code",
   "execution_count": null,
   "id": "8b2a1d65",
   "metadata": {},
   "outputs": [],
   "source": []
  },
  {
   "cell_type": "code",
   "execution_count": null,
   "id": "c1f3edfb",
   "metadata": {},
   "outputs": [],
   "source": []
  }
 ],
 "metadata": {
  "kernelspec": {
   "display_name": "Python 3 (ipykernel)",
   "language": "python",
   "name": "python3"
  },
  "language_info": {
   "codemirror_mode": {
    "name": "ipython",
    "version": 3
   },
   "file_extension": ".py",
   "mimetype": "text/x-python",
   "name": "python",
   "nbconvert_exporter": "python",
   "pygments_lexer": "ipython3",
   "version": "3.9.7"
  }
 },
 "nbformat": 4,
 "nbformat_minor": 5
}
