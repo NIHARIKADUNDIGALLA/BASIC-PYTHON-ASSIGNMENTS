{
 "cells": [
  {
   "cell_type": "raw",
   "id": "6ba3aa1a",
   "metadata": {},
   "source": [
    "1)What is the name of the feature responsible for generating Regex objects?\n",
    "\n",
    "Ans)re.compile()"
   ]
  },
  {
   "cell_type": "raw",
   "id": "8309f3d8",
   "metadata": {},
   "source": [
    "2)Why do raw strings often appear in Regex objects?\n",
    "\n",
    "Ans)Raw strings are used so that backslashes are not escaped."
   ]
  },
  {
   "cell_type": "raw",
   "id": "41da49f8",
   "metadata": {},
   "source": [
    "3)What is the return value of the search() method?\n",
    "\n",
    "Ans)search() methods finds the same item for which the function is searching for."
   ]
  },
  {
   "cell_type": "raw",
   "id": "eafa6fee",
   "metadata": {},
   "source": [
    "4) From a Match item, how do you get the actual strings that match the pattern?\n",
    "\n",
    "Ans)group()"
   ]
  },
  {
   "cell_type": "raw",
   "id": "e3e84018",
   "metadata": {},
   "source": [
    "5)In the regex which created from the r'(\\d\\d\\d)-(\\d\\d\\d-\\d\\d\\d\\d)', what does group zero cover? Group 2? Group 1?\n",
    "\n",
    "Ans)group zero covers all, group 1 covers the values in paranthesis of first and group 2 covers the values in \n",
    "paranthesis of second"
   ]
  },
  {
   "cell_type": "raw",
   "id": "8c50d7dd",
   "metadata": {},
   "source": [
    "6)In standard expression syntax, parentheses and intervals have distinct meanings. \n",
    "How can you tell a regex that you want it to fit real parentheses and periods?\n",
    "\n",
    "Ans)These can be escaped by backslash."
   ]
  },
  {
   "cell_type": "raw",
   "id": "d64cb258",
   "metadata": {},
   "source": [
    "7)The findall() method returns a string list or a list of string tuples. What causes it to return one of the two options?\n",
    "\n",
    "Ans)If there are no groups,then returns a string list. If there are groups , then returns list of string tuples."
   ]
  },
  {
   "cell_type": "raw",
   "id": "766d9eff",
   "metadata": {},
   "source": [
    "8)In standard expressions, what does the | character mean?\n",
    "\n",
    "Ans)It represents \"either\",\"or\" between groups."
   ]
  },
  {
   "cell_type": "raw",
   "id": "9e1d871f",
   "metadata": {},
   "source": [
    "9)In regular expressions, what is the difference between the + and * characters?\n",
    "\n",
    "Ans)+ represents one or more.* represents zero or more."
   ]
  },
  {
   "cell_type": "raw",
   "id": "90e57cb3",
   "metadata": {},
   "source": [
    "10) What is the difference between {4} and {4,5} in regular expression?\n",
    "\n",
    "Ans){4} prints the first four number of digits in the given string.{4,5} prints from the interval 4 to 5."
   ]
  },
  {
   "cell_type": "raw",
   "id": "0a1afe23",
   "metadata": {},
   "source": [
    "11)What do you mean by the \\d, \\w, and \\s shorthand character classes signify in regular expressions?\n",
    "\n",
    "Ans)\\d represents single digit,\\w represents single word,\\s represents space character."
   ]
  },
  {
   "cell_type": "raw",
   "id": "04370185",
   "metadata": {},
   "source": [
    "12)What do means by \\D, \\W, and \\S shorthand character classes signify in regular expressions?\n",
    "\n",
    "Ans)\\D represents non-digit,\\W represents non-word,\\s represents non-space character."
   ]
  },
  {
   "cell_type": "code",
   "execution_count": null,
   "id": "770d3a9d",
   "metadata": {},
   "outputs": [],
   "source": []
  },
  {
   "cell_type": "code",
   "execution_count": null,
   "id": "704894bd",
   "metadata": {},
   "outputs": [],
   "source": []
  }
 ],
 "metadata": {
  "kernelspec": {
   "display_name": "Python 3 (ipykernel)",
   "language": "python",
   "name": "python3"
  },
  "language_info": {
   "codemirror_mode": {
    "name": "ipython",
    "version": 3
   },
   "file_extension": ".py",
   "mimetype": "text/x-python",
   "name": "python",
   "nbconvert_exporter": "python",
   "pygments_lexer": "ipython3",
   "version": "3.9.7"
  }
 },
 "nbformat": 4,
 "nbformat_minor": 5
}
