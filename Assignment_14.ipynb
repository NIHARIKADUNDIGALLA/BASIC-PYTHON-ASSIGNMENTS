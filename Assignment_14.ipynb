{
 "cells": [
  {
   "cell_type": "raw",
   "id": "3734bb13",
   "metadata": {},
   "source": [
    "1)Is an assignment operator like += only for show? Is it possible that it would lead to faster results at the runtime?\n",
    "\n",
    "Ans)Is an assignment operator like += only for show whether iterate the value and store in a variable.Yes,it is possible that it would lead to faster results at the runtime.\n"
   ]
  },
  {
   "cell_type": "code",
   "execution_count": 4,
   "id": "1894dd1f",
   "metadata": {},
   "outputs": [
    {
     "name": "stdout",
     "output_type": "stream",
     "text": [
      "2 1\n"
     ]
    }
   ],
   "source": [
    "#2)What is the smallest number of statements you'd have to write in most programming languages to replace the Python \n",
    "#expression a, b = a + b, a?\n",
    "\n",
    "#Ans)\n",
    "a=1\n",
    "b=1\n",
    "a, b = a + b, a\n",
    "print(a,b)\n",
    "    "
   ]
  },
  {
   "cell_type": "code",
   "execution_count": 8,
   "id": "0a80c004",
   "metadata": {},
   "outputs": [
    {
     "name": "stdout",
     "output_type": "stream",
     "text": [
      "[0]\n",
      "[0]\n",
      "[0]\n",
      "[0]\n",
      "[0]\n",
      "[0]\n",
      "[0]\n",
      "[0]\n",
      "[0]\n",
      "[0]\n",
      "[0]\n",
      "[0]\n",
      "[0]\n",
      "[0]\n",
      "[0]\n",
      "[0]\n",
      "[0]\n",
      "[0]\n",
      "[0]\n",
      "[0]\n",
      "[0]\n",
      "[0]\n",
      "[0]\n",
      "[0]\n",
      "[0]\n",
      "[0]\n",
      "[0]\n",
      "[0]\n",
      "[0]\n",
      "[0]\n",
      "[0]\n",
      "[0]\n",
      "[0]\n",
      "[0]\n",
      "[0]\n",
      "[0]\n",
      "[0]\n",
      "[0]\n",
      "[0]\n",
      "[0]\n",
      "[0]\n",
      "[0]\n",
      "[0]\n",
      "[0]\n",
      "[0]\n",
      "[0]\n",
      "[0]\n",
      "[0]\n",
      "[0]\n",
      "[0]\n",
      "[0]\n",
      "[0]\n",
      "[0]\n",
      "[0]\n",
      "[0]\n",
      "[0]\n",
      "[0]\n",
      "[0]\n",
      "[0]\n",
      "[0]\n",
      "[0]\n",
      "[0]\n",
      "[0]\n",
      "[0]\n",
      "[0]\n",
      "[0]\n",
      "[0]\n",
      "[0]\n",
      "[0]\n",
      "[0]\n",
      "[0]\n",
      "[0]\n",
      "[0]\n",
      "[0]\n",
      "[0]\n",
      "[0]\n",
      "[0]\n",
      "[0]\n",
      "[0]\n",
      "[0]\n",
      "[0]\n",
      "[0]\n",
      "[0]\n",
      "[0]\n",
      "[0]\n",
      "[0]\n",
      "[0]\n",
      "[0]\n",
      "[0]\n",
      "[0]\n",
      "[0]\n",
      "[0]\n",
      "[0]\n",
      "[0]\n",
      "[0]\n",
      "[0]\n",
      "[0]\n",
      "[0]\n",
      "[0]\n",
      "[0]\n"
     ]
    }
   ],
   "source": [
    "#3)In Python, what is the most effective way to set a list of 100 integers to 0?\n",
    "\n",
    "#Ans)\n",
    "for i in range(1,101):\n",
    "    i=0\n",
    "    l=[]\n",
    "    l.append(i)\n",
    "    print(l)\n",
    "   "
   ]
  },
  {
   "cell_type": "code",
   "execution_count": 16,
   "id": "0d6fade0",
   "metadata": {},
   "outputs": [
    {
     "name": "stdout",
     "output_type": "stream",
     "text": [
      "[1, 2, 3, 1, 2, 3, 1, 2, 3, 1, 2, 3, 1, 2, 3, 1, 2, 3, 1, 2, 3, 1, 2, 3, 1, 2, 3, 1, 2, 3, 1, 2, 3, 1, 2, 3, 1, 2, 3, 1, 2, 3, 1, 2, 3, 1, 2, 3, 1, 2, 3, 1, 2, 3, 1, 2, 3, 1, 2, 3, 1, 2, 3, 1, 2, 3, 1, 2, 3, 1, 2, 3, 1, 2, 3, 1, 2, 3, 1, 2, 3, 1, 2, 3, 1, 2, 3, 1, 2, 3, 1, 2, 3, 1, 2, 3, 1, 2, 3]\n"
     ]
    }
   ],
   "source": [
    "#4)What is the most effective way to initialise a list of 99 integers that repeats the sequence 1, 2, 3? \n",
    "#If necessary, show step-by-step instructions on how to accomplish this.\n",
    "\n",
    "#Ans)\n",
    "l=[1,2,3]\n",
    "\n",
    "for i in range(3,99):\n",
    "    a=l[i-3]\n",
    "    l.append(a)\n",
    "print(l)"
   ]
  },
  {
   "cell_type": "code",
   "execution_count": 18,
   "id": "62810635",
   "metadata": {},
   "outputs": [
    {
     "name": "stdout",
     "output_type": "stream",
     "text": [
      "['apple', 'banana', 'cherry', 'kiwi', 'mango']\n"
     ]
    }
   ],
   "source": [
    "#5)Is it possible to use list comprehension with a string? If so, how can you go about doing it?\n",
    "\n",
    "#Ans)\n",
    "fruits = [\"apple\", \"banana\", \"cherry\", \"kiwi\", \"mango\"]\n",
    "list = [x for x in fruits ]\n",
    "print(list)"
   ]
  },
  {
   "cell_type": "raw",
   "id": "a8cb8f05",
   "metadata": {},
   "source": [
    "6) If a function is a generator function, what does it return?\n",
    "Ans)returns iterator object with sequence of values"
   ]
  },
  {
   "cell_type": "raw",
   "id": "f94dbf19",
   "metadata": {},
   "source": [
    "7)What is the one improvement that must be made to a function in order for it to become a generator function in the \n",
    "Python language?\n",
    "\n",
    "Ans)Using yield statement ,instead of return statement."
   ]
  },
  {
   "cell_type": "raw",
   "id": "ec15ff3b",
   "metadata": {},
   "source": [
    "8)Identify at least one benefit of generators.\n",
    "\n",
    "Ans)The elements are generated dynamically."
   ]
  },
  {
   "cell_type": "code",
   "execution_count": null,
   "id": "b6c109ed",
   "metadata": {},
   "outputs": [],
   "source": []
  },
  {
   "cell_type": "code",
   "execution_count": null,
   "id": "dd60f21a",
   "metadata": {},
   "outputs": [],
   "source": []
  }
 ],
 "metadata": {
  "kernelspec": {
   "display_name": "Python 3 (ipykernel)",
   "language": "python",
   "name": "python3"
  },
  "language_info": {
   "codemirror_mode": {
    "name": "ipython",
    "version": 3
   },
   "file_extension": ".py",
   "mimetype": "text/x-python",
   "name": "python",
   "nbconvert_exporter": "python",
   "pygments_lexer": "ipython3",
   "version": "3.9.7"
  }
 },
 "nbformat": 4,
 "nbformat_minor": 5
}
