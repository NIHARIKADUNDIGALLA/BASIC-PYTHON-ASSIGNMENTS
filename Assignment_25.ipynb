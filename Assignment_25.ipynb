{
 "cells": [
  {
   "cell_type": "raw",
   "id": "5f7405bc",
   "metadata": {},
   "source": [
    "1) What is the difference between enclosing a list comprehension in square brackets and parentheses?\n",
    "Ans)The difference between enclosing a list comprehension in square brackets and parentheses is  list comprehension \n",
    "in square brackets indicates it is list and paranthesis indicates tuple or set."
   ]
  },
  {
   "cell_type": "raw",
   "id": "1a03d099",
   "metadata": {},
   "source": [
    "2)What is the relationship between generators and iterators?\n",
    "Ans)generator is a iterator but not vice versa.\n",
    "generator remembers the starting and code and iterator usally iterates or the iter() function is used to convert into \n",
    "iterator."
   ]
  },
  {
   "cell_type": "raw",
   "id": "a5d9a4e4",
   "metadata": {},
   "source": [
    "3)What are the signs that a function is a generator function?\n",
    "Ans)yeild statement is used to  return a value."
   ]
  },
  {
   "cell_type": "raw",
   "id": "e7c557d1",
   "metadata": {},
   "source": [
    "4) What is the purpose of a yield statement?\n",
    "Ans)yeild statement returns some value from a function."
   ]
  },
  {
   "cell_type": "raw",
   "id": "5b9a34a8",
   "metadata": {},
   "source": [
    "5)What is the relationship between map calls and list comprehensions? Make a comparison and contrast between the two.\n",
    "Ans)list comprehension takes list of values and returns it where map doesnt return."
   ]
  },
  {
   "cell_type": "code",
   "execution_count": null,
   "id": "d9d457af",
   "metadata": {},
   "outputs": [],
   "source": []
  }
 ],
 "metadata": {
  "kernelspec": {
   "display_name": "Python 3 (ipykernel)",
   "language": "python",
   "name": "python3"
  },
  "language_info": {
   "codemirror_mode": {
    "name": "ipython",
    "version": 3
   },
   "file_extension": ".py",
   "mimetype": "text/x-python",
   "name": "python",
   "nbconvert_exporter": "python",
   "pygments_lexer": "ipython3",
   "version": "3.9.7"
  }
 },
 "nbformat": 4,
 "nbformat_minor": 5
}
