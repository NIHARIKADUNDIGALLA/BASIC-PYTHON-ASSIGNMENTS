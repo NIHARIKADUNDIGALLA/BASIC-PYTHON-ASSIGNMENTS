{
 "cells": [
  {
   "cell_type": "raw",
   "id": "a1c8e333",
   "metadata": {},
   "source": [
    "1)In the below elements which of them are values or an expression?\n",
    "eg:-values can be integer or string and expressions will be mathematical operators.\n",
    "*\n",
    "'hello'\n",
    "-87.8\n",
    "-\n",
    "/\n",
    "+\n",
    "6\n",
    "\n",
    "\n",
    "Ans)Values are 'hello', -87.6, 6\n",
    "Expressions are *, - , /, +"
   ]
  },
  {
   "cell_type": "raw",
   "id": "99c641d8",
   "metadata": {},
   "source": [
    "2)What is the difference between string and variable?\n",
    "\n",
    "Ans)string is a collection of letters and variable holds the values."
   ]
  },
  {
   "cell_type": "raw",
   "id": "90530af8",
   "metadata": {},
   "source": [
    "3)Describe the three different data types?\n",
    "\n",
    "Ans)integer\n",
    "float\n",
    "string"
   ]
  },
  {
   "cell_type": "raw",
   "id": "009fb447",
   "metadata": {},
   "source": [
    "4)What is an expression made up of?what do all expressions do?\n",
    "\n",
    "Ans)Expression is made up of operators and operands. Expressions give result or output."
   ]
  },
  {
   "cell_type": "raw",
   "id": "33a602e4",
   "metadata": {},
   "source": [
    "5)This assignment statements, like spam = 10.What is the difference between\n",
    "an expression and a statement?\n",
    "\n",
    "Ans)Expression gives result of input and statement is nothing to do with."
   ]
  },
  {
   "cell_type": "raw",
   "id": "fa87bcfa",
   "metadata": {},
   "source": [
    "6)After the following code,what does the variable bacon contain?\n",
    "bacon = 22\n",
    "bacon + 1\n",
    "\n",
    "Ans)22"
   ]
  },
  {
   "cell_type": "raw",
   "id": "46c3a3d6",
   "metadata": {},
   "source": [
    "7)What should the values of the following two terms be?\n",
    "'spam' + 'spamspam'\n",
    "'spam' * 3\n",
    "\n",
    "Ans)'spam' + 'spamspam' = 'spamspamspam'\n",
    "'spam' * 3 = 'spamspamspam'\n"
   ]
  },
  {
   "cell_type": "raw",
   "id": "6da26a5a",
   "metadata": {},
   "source": [
    "8)Why is eggs a valid variable name while 100 is invalid?\n",
    "\n",
    "Ans)Variables cannot begin with number."
   ]
  },
  {
   "cell_type": "raw",
   "id": "55dca8b6",
   "metadata": {},
   "source": [
    "9)What three functions can be used to get the integer, floating-point\n",
    "number, or string version of a value?\n",
    "\n",
    "Ans)int()\n",
    "float()\n",
    "str()"
   ]
  },
  {
   "cell_type": "raw",
   "id": "26e56b97",
   "metadata": {},
   "source": [
    "10)Why does this expression cause an error?How can you fix it?\n",
    "'I have eaten' + 99 + 'burritos'\n",
    "\n",
    "Ans)can only concatenate str (not \"int\") to str"
   ]
  }
 ],
 "metadata": {
  "kernelspec": {
   "display_name": "Python 3 (ipykernel)",
   "language": "python",
   "name": "python3"
  },
  "language_info": {
   "codemirror_mode": {
    "name": "ipython",
    "version": 3
   },
   "file_extension": ".py",
   "mimetype": "text/x-python",
   "name": "python",
   "nbconvert_exporter": "python",
   "pygments_lexer": "ipython3",
   "version": "3.9.7"
  }
 },
 "nbformat": 4,
 "nbformat_minor": 5
}
