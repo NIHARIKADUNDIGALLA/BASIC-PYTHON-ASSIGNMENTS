{
 "cells": [
  {
   "cell_type": "raw",
   "id": "7c149ba1",
   "metadata": {},
   "source": [
    "1)What are escape characters, and how do you use them?\n",
    "\n",
    "Ans)Escape characters are used to perform an action.They are used by backslash , followed by escape character."
   ]
  },
  {
   "cell_type": "raw",
   "id": "8332f05c",
   "metadata": {},
   "source": [
    "2)What do the escape characters n and t stand for?\n",
    "\n",
    "Ans)n stands for new line and t stands for tab."
   ]
  },
  {
   "cell_type": "raw",
   "id": "8dd686b4",
   "metadata": {},
   "source": [
    "3)The string \"Howl's Moving Castle\" is a correct value. Why isn't the single quote character in the word Howl's not\n",
    "escaped a problem?\n",
    "\n",
    "Ans)Because you are using double quotes in the beginning and end of the string. "
   ]
  },
  {
   "cell_type": "raw",
   "id": "67652d88",
   "metadata": {},
   "source": [
    "4)What are the values of the given expressions?\n",
    "'Hello, world!'[1]\n",
    "'Hello, world!'[0:5]\n",
    "'Hello, world!'[:5]\n",
    "'Hello, world!'[3:]\n",
    "\n",
    "Ans)e\n",
    "'Hello'\n",
    "'Hello'\n",
    "'lo, world!'"
   ]
  },
  {
   "cell_type": "raw",
   "id": "51b27416",
   "metadata": {},
   "source": [
    "5)What are the values of the following expressions?\n",
    "'Hello'.upper()\n",
    "'Hello'.upper().isupper()\n",
    "'Hello'.upper().lower()\n",
    "\n",
    "Ans)HELLO\n",
    "True\n",
    "hello"
   ]
  },
  {
   "cell_type": "raw",
   "id": "44a8b2bf",
   "metadata": {},
   "source": [
    "6)What are the values of the following expressions?\n",
    "'Remember, remember, the fifth of July.'.split()\n",
    "'-'.join('There can only one.'.split())\n",
    "\n",
    "Ans)['Remember,', 'remember,', 'the', 'fifth', 'of', 'July.']\n",
    "'There-can-only-one.'"
   ]
  },
  {
   "cell_type": "raw",
   "id": "f97abee2",
   "metadata": {},
   "source": [
    "7)What are the methods for right-justifying, left-justifying, and centering a string?\n",
    "\n",
    "Ans)ljust(), rjust(), center()"
   ]
  },
  {
   "cell_type": "raw",
   "id": "c5f47379",
   "metadata": {},
   "source": [
    "8)What is the best way to remove whitespace characters from the start or end?\n",
    "\n",
    "Ans)by using strip()"
   ]
  }
 ],
 "metadata": {
  "kernelspec": {
   "display_name": "Python 3 (ipykernel)",
   "language": "python",
   "name": "python3"
  },
  "language_info": {
   "codemirror_mode": {
    "name": "ipython",
    "version": 3
   },
   "file_extension": ".py",
   "mimetype": "text/x-python",
   "name": "python",
   "nbconvert_exporter": "python",
   "pygments_lexer": "ipython3",
   "version": "3.9.7"
  }
 },
 "nbformat": 4,
 "nbformat_minor": 5
}
