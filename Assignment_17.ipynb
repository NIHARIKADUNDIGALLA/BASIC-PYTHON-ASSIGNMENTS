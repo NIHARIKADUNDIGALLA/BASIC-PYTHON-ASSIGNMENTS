{
 "cells": [
  {
   "cell_type": "code",
   "execution_count": 1,
   "id": "4d742e80",
   "metadata": {},
   "outputs": [
    {
     "name": "stdout",
     "output_type": "stream",
     "text": [
      "just right\n"
     ]
    }
   ],
   "source": [
    "##1) Assign the value 7 to the variable guess_me. Then, write the conditional tests (if, else, and elif) to print the \n",
    "##string 'too low' if guess_me is less than 7, 'too high' if greater than 7, and 'just right' if equal to 7.\n",
    "##Ans)\n",
    "\n",
    "guess_me=7\n",
    "if guess_me<7:\n",
    "    print(\"too low\")\n",
    "elif guess_me>7:\n",
    "    print(\"too high\")\n",
    "else:\n",
    "    print(\"just right\")"
   ]
  },
  {
   "cell_type": "code",
   "execution_count": 38,
   "id": "24848b37",
   "metadata": {},
   "outputs": [
    {
     "name": "stdout",
     "output_type": "stream",
     "text": [
      "too low\n",
      "too low\n",
      "too low\n",
      "too low\n",
      "too low\n",
      "too low\n",
      "found me!\n"
     ]
    }
   ],
   "source": [
    "##2) Assign the value 7 to the variable guess_me and the value 1 to the variable start. \n",
    "#Write a while loop that compares start with guess_me. Print too low if start is less than guess me. \n",
    "#If start equals guess_me, print 'found it!' and exit the loop. \n",
    "#If start is greater than guess_me, print 'oops' and exit the loop. Increment start at the end of the loop.\n",
    "#Ans)\n",
    "\n",
    "guess_me=7\n",
    "start=1\n",
    "\n",
    "while True:\n",
    "    if start<guess_me:\n",
    "        print(\"too low\")\n",
    "    elif start==guess_me:\n",
    "        print(\"found me!\")\n",
    "        break\n",
    "    else:\n",
    "        print(\"oops\")\n",
    "        break\n",
    "    start=start+1\n",
    "        "
   ]
  },
  {
   "cell_type": "code",
   "execution_count": 16,
   "id": "b64fee71",
   "metadata": {},
   "outputs": [
    {
     "name": "stdout",
     "output_type": "stream",
     "text": [
      "3\n",
      "2\n",
      "1\n",
      "0\n"
     ]
    }
   ],
   "source": [
    "##3)Print the following values of the list [3, 2, 1, 0] using a for loop.\n",
    "#Ans)\n",
    "\n",
    "for i in [3,2,1,0]:\n",
    "    print(i)"
   ]
  },
  {
   "cell_type": "code",
   "execution_count": 21,
   "id": "4ddd6cc4",
   "metadata": {},
   "outputs": [
    {
     "data": {
      "text/plain": [
       "[0, 2, 4, 6, 8]"
      ]
     },
     "execution_count": 21,
     "metadata": {},
     "output_type": "execute_result"
    }
   ],
   "source": [
    "#4)Use a list comprehension to make a list of the even numbers in range(10)\n",
    "#Ans)\n",
    "\n",
    "even_no=[i for i in range(10) if i%2==0]\n",
    "even_no"
   ]
  },
  {
   "cell_type": "code",
   "execution_count": 22,
   "id": "4ff9ec16",
   "metadata": {},
   "outputs": [
    {
     "data": {
      "text/plain": [
       "{0: 0, 1: 1, 2: 4, 3: 9, 4: 16, 5: 25, 6: 36, 7: 49, 8: 64, 9: 81}"
      ]
     },
     "execution_count": 22,
     "metadata": {},
     "output_type": "execute_result"
    }
   ],
   "source": [
    "#5)Use a dictionary comprehension to create the dictionary squares. Use range(10) to return the keys, \n",
    "#and use the square of each key as its value.\n",
    "#Ans)\n",
    "\n",
    "square={x:x*x for x in range(10)}\n",
    "square"
   ]
  },
  {
   "cell_type": "code",
   "execution_count": 32,
   "id": "51a877fc",
   "metadata": {},
   "outputs": [
    {
     "name": "stdout",
     "output_type": "stream",
     "text": [
      "<class 'set'>\n"
     ]
    }
   ],
   "source": [
    "#6)Construct the set odd from the odd numbers in the range using a set comprehension (10).\n",
    "#Ans)\n",
    "\n",
    "odd_no={i for i in range(10) if i%2!=0}\n",
    "odd_no\n",
    "print(type(odd_no))\n",
    "\n",
    "\n"
   ]
  },
  {
   "cell_type": "code",
   "execution_count": 40,
   "id": "f3a80982",
   "metadata": {},
   "outputs": [
    {
     "name": "stdout",
     "output_type": "stream",
     "text": [
      "Got0\n",
      "Got1\n",
      "Got2\n",
      "Got3\n",
      "Got4\n",
      "Got5\n",
      "Got6\n",
      "Got7\n",
      "Got8\n",
      "Got9\n"
     ]
    }
   ],
   "source": [
    "#7)Use a generator comprehension to return the string 'Got ' and a number for the numbers in range(10).\n",
    "#Iterate through this by using a for loop.\n",
    "#Ans)\n",
    "\n",
    "gen=('Got'+str(i) for i in range(10))\n",
    "\n",
    "for x in gen:\n",
    "    print(x)"
   ]
  },
  {
   "cell_type": "code",
   "execution_count": 43,
   "id": "13a8e986",
   "metadata": {},
   "outputs": [
    {
     "name": "stdout",
     "output_type": "stream",
     "text": [
      "['Harry', 'Ron', 'Hermione']\n"
     ]
    }
   ],
   "source": [
    "#8)Define a function called good that returns the list ['Harry', 'Ron', 'Hermione'].\n",
    "#Ans)\n",
    "\n",
    "a=['Harry', 'Ron', 'Hermione']\n",
    "def good(a):\n",
    "    print(a)\n",
    "good(a)   "
   ]
  },
  {
   "cell_type": "code",
   "execution_count": 47,
   "id": "e2c9651d",
   "metadata": {},
   "outputs": [
    {
     "name": "stdout",
     "output_type": "stream",
     "text": [
      "5\n"
     ]
    }
   ],
   "source": [
    "#9) Define a generator function called get_odds that returns the odd numbers from range(10). \n",
    "#Use a for loop to find and print the third value returned.\n",
    "#Ans)\n",
    "\n",
    "get_odds=(i for i in range(10) if i%2!=0)\n",
    "\n",
    "count=1\n",
    "for x in get_odds:\n",
    "    if count==3:\n",
    "        print(x)\n",
    "        break\n",
    "    count+=1"
   ]
  },
  {
   "cell_type": "code",
   "execution_count": 49,
   "id": "718d1d95",
   "metadata": {},
   "outputs": [
    {
     "name": "stdout",
     "output_type": "stream",
     "text": [
      "Yes\n"
     ]
    }
   ],
   "source": [
    "#10)Define an exception called OopsException. Raise this exception to see what happens. Then write the code to catch\n",
    "#this exception and print 'Caught an oops'.\n",
    "#Ans)\n",
    "\n",
    "class OopsException(Exception):\n",
    "    pass\n",
    "\n",
    "def raise_exception(i):\n",
    "    if a==0:\n",
    "        raise OopsException(a)\n",
    "        \n",
    "try:\n",
    "    raise_exception(0)\n",
    "    print(\"Yes\")\n",
    "except OopsException as err:\n",
    "    print(\"Caught on Oops\")\n",
    "    \n",
    "  \n"
   ]
  },
  {
   "cell_type": "code",
   "execution_count": 52,
   "id": "ad00c43c",
   "metadata": {},
   "outputs": [
    {
     "data": {
      "text/plain": [
       "{'Creature of Habit': 'A nun turns into a monster',\n",
       " 'Crewel Fate': 'A haunted yarn shop'}"
      ]
     },
     "execution_count": 52,
     "metadata": {},
     "output_type": "execute_result"
    }
   ],
   "source": [
    "#11) Use zip() to make a dictionary called movies that pairs these lists: titles = ['Creature of Habit', 'Crewel Fate']\n",
    "#and plots = ['A nun turns into a monster', 'A haunted yarn shop'].\n",
    "#Ans)\n",
    "\n",
    "movies={}\n",
    "titles = ['Creature of Habit', 'Crewel Fate']\n",
    "plots = ['A nun turns into a monster', 'A haunted yarn shop']\n",
    "\n",
    "for title,plot in zip(titles,plots):\n",
    "    movies[title]=plot\n",
    "    \n",
    "movies"
   ]
  },
  {
   "cell_type": "code",
   "execution_count": null,
   "id": "ffd63370",
   "metadata": {},
   "outputs": [],
   "source": []
  },
  {
   "cell_type": "code",
   "execution_count": null,
   "id": "8f579230",
   "metadata": {},
   "outputs": [],
   "source": []
  },
  {
   "cell_type": "code",
   "execution_count": null,
   "id": "267f24a5",
   "metadata": {},
   "outputs": [],
   "source": []
  },
  {
   "cell_type": "code",
   "execution_count": null,
   "id": "f5bd2c65",
   "metadata": {},
   "outputs": [],
   "source": []
  }
 ],
 "metadata": {
  "kernelspec": {
   "display_name": "Python 3 (ipykernel)",
   "language": "python",
   "name": "python3"
  },
  "language_info": {
   "codemirror_mode": {
    "name": "ipython",
    "version": 3
   },
   "file_extension": ".py",
   "mimetype": "text/x-python",
   "name": "python",
   "nbconvert_exporter": "python",
   "pygments_lexer": "ipython3",
   "version": "3.9.7"
  }
 },
 "nbformat": 4,
 "nbformat_minor": 5
}
