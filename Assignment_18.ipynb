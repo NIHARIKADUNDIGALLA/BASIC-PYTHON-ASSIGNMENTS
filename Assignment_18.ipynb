{
 "cells": [
  {
   "cell_type": "code",
   "execution_count": 2,
   "id": "c6da9abb",
   "metadata": {},
   "outputs": [
    {
     "name": "stdout",
     "output_type": "stream",
     "text": [
      "Open 9-5 daily\n"
     ]
    }
   ],
   "source": [
    "#1)Create a zoo.py file first. Define the hours() function, which prints the string 'Open 9-5 daily'. \n",
    "#Then, use the interactive interpreter to import the zoo module and call its hours() function.\n",
    "\n",
    "#Ans)\n",
    "import zoo\n",
    "\n",
    "zoo.hours()"
   ]
  },
  {
   "cell_type": "code",
   "execution_count": 3,
   "id": "85f6b68d",
   "metadata": {},
   "outputs": [
    {
     "name": "stdout",
     "output_type": "stream",
     "text": [
      "Open 9-5 daily\n"
     ]
    }
   ],
   "source": [
    "#2)In the interactive interpreter, import the zoo module as menagerie and call its hours() function.\n",
    "#Ans)\n",
    "import zoo as menagerie\n",
    "menagerie.hours()"
   ]
  },
  {
   "cell_type": "code",
   "execution_count": 8,
   "id": "5a34dd6c",
   "metadata": {},
   "outputs": [
    {
     "name": "stdout",
     "output_type": "stream",
     "text": [
      "Open 9-5 daily\n"
     ]
    }
   ],
   "source": [
    "#3) Using the interpreter, explicitly import and call the hours() function from zoo.\n",
    "#Ans)\n",
    "import zoo\n",
    "from zoo import hours\n",
    "hours()"
   ]
  },
  {
   "cell_type": "code",
   "execution_count": 11,
   "id": "90bb75a9",
   "metadata": {},
   "outputs": [
    {
     "name": "stdout",
     "output_type": "stream",
     "text": [
      "Open 9-5 daily\n"
     ]
    }
   ],
   "source": [
    "#4) Import the hours() function as info and call it.\n",
    "#Ans)\n",
    "import zoo\n",
    "from zoo import hours as info\n",
    "info()"
   ]
  },
  {
   "cell_type": "code",
   "execution_count": 12,
   "id": "a33ecf23",
   "metadata": {},
   "outputs": [
    {
     "data": {
      "text/plain": [
       "{'a': 1, 'b': 2, 'c': 3}"
      ]
     },
     "execution_count": 12,
     "metadata": {},
     "output_type": "execute_result"
    }
   ],
   "source": [
    "#5)Create a plain dictionary with the key-value pairs 'a': 1, 'b': 2, and 'c': 3, and print it out.\n",
    "#Ans)\n",
    "d={'a':1,'b':2,'c':3}\n",
    "d"
   ]
  },
  {
   "cell_type": "code",
   "execution_count": 16,
   "id": "bd9185ea",
   "metadata": {},
   "outputs": [
    {
     "data": {
      "text/plain": [
       "OrderedDict([('a', 1), ('b', 2), ('c', 3)])"
      ]
     },
     "execution_count": 16,
     "metadata": {},
     "output_type": "execute_result"
    }
   ],
   "source": [
    "#6)Make an OrderedDict called fancy from the same pairs listed in 5 and print it. Did it print in the same order as plain?\n",
    "#Ans)\n",
    "from collections import OrderedDict\n",
    "fancy=OrderedDict(d)\n",
    "fancy\n",
    "\n",
    "##Yes,OrderedDict is same as plain dictionary."
   ]
  },
  {
   "cell_type": "code",
   "execution_count": 17,
   "id": "58c1b401",
   "metadata": {},
   "outputs": [
    {
     "data": {
      "text/plain": [
       "[1, 2]"
      ]
     },
     "execution_count": 17,
     "metadata": {},
     "output_type": "execute_result"
    }
   ],
   "source": [
    "#7) Make a default dictionary called dict_of_lists and pass it the argument list. Make the list dict_of_lists['a'] \n",
    "##and append the value 'something for a' to it in one assignment. Print dict_of_lists['a'].\n",
    "#Ans)\n",
    "\n",
    "dict_of_lists={'a':1,'b':2,'c':[1,2,3]}\n",
    "dict_of_lists['a']=[1,2]\n",
    "dict_of_lists['a']"
   ]
  }
 ],
 "metadata": {
  "kernelspec": {
   "display_name": "Python 3 (ipykernel)",
   "language": "python",
   "name": "python3"
  },
  "language_info": {
   "codemirror_mode": {
    "name": "ipython",
    "version": 3
   },
   "file_extension": ".py",
   "mimetype": "text/x-python",
   "name": "python",
   "nbconvert_exporter": "python",
   "pygments_lexer": "ipython3",
   "version": "3.9.7"
  }
 },
 "nbformat": 4,
 "nbformat_minor": 5
}
