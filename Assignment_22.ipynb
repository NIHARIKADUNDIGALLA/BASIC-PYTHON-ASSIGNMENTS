{
 "cells": [
  {
   "cell_type": "raw",
   "id": "57e3bb43",
   "metadata": {},
   "source": [
    "1). What is the result of the code, and explain?\n",
    "\n",
    ">>> X = 'iNeuron'\n",
    ">>> def func():\n",
    "print(X)\n",
    ">>> func()\n",
    "\n",
    "Ans)Result of the code is 'iNeuron'. \n",
    "X value is defined as iNeuron.By using def and giving function name as func() and printing X value in the next line,so that when the function func() is called it returns 'iNeuron'. \n"
   ]
  },
  {
   "cell_type": "raw",
   "id": "e3cbcb87",
   "metadata": {},
   "source": [
    "2) What is the result of the code, and explain?\n",
    "\n",
    "\n",
    ">>> X = 'iNeuron'\n",
    ">>> def func():\n",
    "X = 'NI!'\n",
    "\n",
    "\n",
    ">>> func()\n",
    ">>> print(X)\n",
    "\n",
    "Ans)Result of the code is 'iNeuron'. \n",
    "X value is defined as iNeuron.By using def and giving function name as func() and initializing X value as 'NI! in the next line.As when the function func() is called it returns nothing, as in func() we didnt write print function.\n",
    "By print(X) , we get the value as 'iNeuron'."
   ]
  },
  {
   "cell_type": "raw",
   "id": "a9d46007",
   "metadata": {},
   "source": [
    "3)What does this code print, and why?\n",
    "\n",
    "\n",
    ">>> X = 'iNeuron'\n",
    ">>> def func():\n",
    "X = 'NI'\n",
    "print(X)\n",
    "\n",
    "\n",
    ">>> func()\n",
    ">>> print(X)\n",
    "\n",
    "Ans)Result of this code is 'NI','iNeuron'.\n",
    "X value is defined as iNeuron.By using def and giving function name as func() and initializing X value as 'NI! and printing X value in the next line.As when the function func() is called it returns 'NI'.\n",
    "By print(X) , we get the value as 'iNeuron'."
   ]
  },
  {
   "cell_type": "raw",
   "id": "830c7f2a",
   "metadata": {},
   "source": [
    "4)What output does this code produce? Why?\n",
    "\n",
    "\n",
    ">>> X = 'iNeuron'\n",
    ">>> def func():\n",
    "global X\n",
    "X = 'NI'\n",
    "\n",
    "\n",
    ">>> func()\n",
    ">>> print(X)\n",
    "\n",
    "Ans)Result of the code is 'NI'. \n",
    "X value is defined as iNeuron.By using def and giving function name as func() and initializing X value as 'NI!' and \n",
    "X is defined as global vaiable.As when the function func() is called it returns nothing, as in func() we didnt write \n",
    "print function.By print(X) , we get the value as 'NI'.\n"
   ]
  },
  {
   "cell_type": "raw",
   "id": "6b35e07a",
   "metadata": {},
   "source": [
    "5)What about this code—what’s the output, and why?\n",
    "\n",
    ">>> X = 'iNeuron'\n",
    ">>> def func():\n",
    "X = 'NI'\n",
    "def nested():\n",
    "print(X)\n",
    "nested()\n",
    "\n",
    "\n",
    ">>> func()\n",
    ">>> X\n",
    "\n",
    "Ans)Output is 'iNeuron'.\n",
    "X value is defined as iNeuron.By using def and giving function name as func() and initializing X value as 'NI'.\n",
    "Then defining another function as nested() and printing X.By calling nested() function it gives 'iNeuron'.As when the function func() is called it returns nothing, as in func() we didnt write print function.By print(X),we get the value as 'iNeuron'.\n",
    "\n"
   ]
  },
  {
   "cell_type": "raw",
   "id": "1eefee1f",
   "metadata": {},
   "source": [
    "6)How about this code: what is its output in Python 3, and explain?\n",
    "\n",
    ">>> def func():\n",
    "X = 'NI'\n",
    "def nested():\n",
    "nonlocal X\n",
    "X = 'Spam'\n",
    "nested()\n",
    "print(X)\n",
    "\n",
    ">>> func()\n",
    "Ans)Output is 'Spam'.\n",
    "By using def and giving function name as func() and initializing X value as 'NI'.Then defining another function as\n",
    "nested() and declaring nonlocal variable X and initializing value as 'Spam'.By calling nested() function and printing X \n",
    "value it gives 'Spam'.\n",
    "\n"
   ]
  }
 ],
 "metadata": {
  "kernelspec": {
   "display_name": "Python 3 (ipykernel)",
   "language": "python",
   "name": "python3"
  },
  "language_info": {
   "codemirror_mode": {
    "name": "ipython",
    "version": 3
   },
   "file_extension": ".py",
   "mimetype": "text/x-python",
   "name": "python",
   "nbconvert_exporter": "python",
   "pygments_lexer": "ipython3",
   "version": "3.9.7"
  }
 },
 "nbformat": 4,
 "nbformat_minor": 5
}
