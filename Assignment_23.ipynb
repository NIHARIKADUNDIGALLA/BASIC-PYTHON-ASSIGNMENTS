{
 "cells": [
  {
   "cell_type": "raw",
   "id": "8c70455c",
   "metadata": {},
   "source": [
    "1. What is the result of the code, and why?\n",
    ">>> def func(a, b=6, c=8):\n",
    "print(a, b, c)\n",
    ">>> func(1, 2)\n",
    "\n",
    "Ans)Result of the code is 1,2,8.By defining function as func().Defining variable a, initializing values b and c as 6,8.\n",
    "Printing a,b,c.And calling function as func() by giving values as 1,2 which takes as a,b values."
   ]
  },
  {
   "cell_type": "raw",
   "id": "be7bbf23",
   "metadata": {},
   "source": [
    "2. What is the result of this code, and why?\n",
    ">>> def func(a, b, c=5):\n",
    "print(a, b, c)\n",
    ">>> func(1, c=3, b=2)\n",
    "\n",
    "Ans)Result of the code is 1,2,3.By defining function as func().Defining variable a and b, initializing values b  as 5.\n",
    "Printing a,b,c.And calling function as func() by giving values as 1,c=3,b=2.Prints 1,2,3."
   ]
  },
  {
   "cell_type": "raw",
   "id": "fb1dd581",
   "metadata": {},
   "source": [
    "3. How about this code: what is its result, and why?\n",
    ">>> def func(a, *pargs):\n",
    "print(a, pargs)\n",
    ">>> func(1, 2, 3)\n",
    "\n",
    "Ans)The result is 1,(2,3) where a value is 1 and *pargs takes value as (2,3)."
   ]
  },
  {
   "cell_type": "raw",
   "id": "c45d26b2",
   "metadata": {},
   "source": [
    "4. What does this code print, and why?\n",
    ">>> def func(a, **kargs):\n",
    "print(a, kargs)\n",
    ">>> func(a=1, c=3, b=2)\n",
    "\n",
    "Ans)The result is 1 ,{'c': 3, 'b': 2} where a value is 1 and **kargs takes value as {'c': 3, 'b': 2} ."
   ]
  },
  {
   "cell_type": "raw",
   "id": "257a0e40",
   "metadata": {},
   "source": [
    "5. What gets printed by this, and explain?\n",
    ">>> def func(a, b, c=8, d=5): \n",
    "    print(a, b, c, d)\n",
    ">>> func(1, *(5, 6))\n",
    "\n",
    "Ans)The result is  1,5 ,6 ,5 where a value is 1 and b takes value as 5 , c as 6 and d as 5 ."
   ]
  },
  {
   "cell_type": "code",
   "execution_count": null,
   "id": "aef9bacb",
   "metadata": {},
   "outputs": [],
   "source": []
  },
  {
   "cell_type": "code",
   "execution_count": null,
   "id": "bc4637fb",
   "metadata": {},
   "outputs": [],
   "source": []
  },
  {
   "cell_type": "code",
   "execution_count": null,
   "id": "1b92fe32",
   "metadata": {},
   "outputs": [],
   "source": []
  }
 ],
 "metadata": {
  "kernelspec": {
   "display_name": "Python 3 (ipykernel)",
   "language": "python",
   "name": "python3"
  },
  "language_info": {
   "codemirror_mode": {
    "name": "ipython",
    "version": 3
   },
   "file_extension": ".py",
   "mimetype": "text/x-python",
   "name": "python",
   "nbconvert_exporter": "python",
   "pygments_lexer": "ipython3",
   "version": "3.9.7"
  }
 },
 "nbformat": 4,
 "nbformat_minor": 5
}
