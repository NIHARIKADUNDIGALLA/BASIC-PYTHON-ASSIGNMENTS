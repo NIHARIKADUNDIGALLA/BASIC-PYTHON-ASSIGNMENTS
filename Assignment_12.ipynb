{
 "cells": [
  {
   "cell_type": "raw",
   "id": "86661018",
   "metadata": {},
   "source": [
    "1) In what modes should the PdfFileReader() and PdfFileWriter() File objects will be opened?\n",
    "\n",
    "Ans)PdfFileReader() is opened in rb mode and PdfFileWriter() is opened in rw mode"
   ]
  },
  {
   "cell_type": "raw",
   "id": "b45bf018",
   "metadata": {},
   "source": [
    "2)From a PdfFileReader object, how do you get a Page object for page 5?\n",
    "\n",
    "Ans)pageobj=PdfFilereader.getPage(5)"
   ]
  },
  {
   "cell_type": "raw",
   "id": "213d4eec",
   "metadata": {},
   "source": [
    "3) What PdfFileReader variable stores the number of pages in the PDF document?\n",
    "\n",
    "Ans)The PdfFileReader stores the number of pages from the PDF document by numPages."
   ]
  },
  {
   "cell_type": "raw",
   "id": "80b1fde0",
   "metadata": {},
   "source": [
    "4)What methods do you use to rotate a page?\n",
    "\n",
    "Ans)rotateClockwise()"
   ]
  },
  {
   "cell_type": "raw",
   "id": "26a9cdbb",
   "metadata": {},
   "source": [
    "5)What is the difference between a Run object and a Paragraph object?\n",
    "    \n",
    "Ans)paragraph object contains few lines and run object divides the paragraph on some basis. "
   ]
  },
  {
   "cell_type": "raw",
   "id": "f31f8cbd",
   "metadata": {},
   "source": [
    "6) If a PdfFileReader object’s PDF is encrypted with the password swordfish, what must you do before you can obtain \n",
    "Page objects from it?\n",
    "\n",
    "Ans)We need to enter password and decrypt it."
   ]
  },
  {
   "cell_type": "raw",
   "id": "98934f2f",
   "metadata": {},
   "source": [
    "7)How do you obtain a list of Paragraph objects for a Document object that’s stored in a variable named doc?\n",
    "\n",
    "Ans)doc.paragraphs"
   ]
  },
  {
   "cell_type": "raw",
   "id": "1a205406",
   "metadata": {},
   "source": [
    "8)What type of object has bold, underline, italic, strike, and outline variables?\n",
    "\n",
    "Ans)run object"
   ]
  },
  {
   "cell_type": "raw",
   "id": "6ee82e6c",
   "metadata": {},
   "source": [
    "9)What is the difference between False, True, and None for the bold variable?\n",
    "\n",
    "Ans)True: bold is enabled\n",
    "    False: bold is disenabled\n",
    "    None: default is set"
   ]
  },
  {
   "cell_type": "raw",
   "id": "3abedfcf",
   "metadata": {},
   "source": [
    "10)How do you create a Document object for a new Word document?\n",
    "\n",
    "Ans)doc=docx.document(filename)"
   ]
  },
  {
   "cell_type": "raw",
   "id": "2194c75b",
   "metadata": {},
   "source": [
    "11)How do you add a paragraph with the text 'Hello, there!' to a Document object stored in a variable named doc?\n",
    "\n",
    "Ans)doc=add_paragraph(\"hello,there!\")"
   ]
  },
  {
   "cell_type": "raw",
   "id": "98b3cfb6",
   "metadata": {},
   "source": [
    "12)What integers represent the levels of headings available in Word documents?\n",
    "\n",
    "Ans)1,2,3,4,5,6,7,8,9 are the integers represent the levels of headings available in Word documents"
   ]
  }
 ],
 "metadata": {
  "kernelspec": {
   "display_name": "Python 3 (ipykernel)",
   "language": "python",
   "name": "python3"
  },
  "language_info": {
   "codemirror_mode": {
    "name": "ipython",
    "version": 3
   },
   "file_extension": ".py",
   "mimetype": "text/x-python",
   "name": "python",
   "nbconvert_exporter": "python",
   "pygments_lexer": "ipython3",
   "version": "3.9.7"
  }
 },
 "nbformat": 4,
 "nbformat_minor": 5
}
