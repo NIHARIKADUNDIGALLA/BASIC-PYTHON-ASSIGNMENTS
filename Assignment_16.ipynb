{
 "cells": [
  {
   "cell_type": "raw",
   "id": "166c6bc2",
   "metadata": {},
   "source": [
    "1)What is the benefit of regular expressions?\n",
    "Ans)Regular expressions search for a pattern and replace it."
   ]
  },
  {
   "cell_type": "raw",
   "id": "4c22f623",
   "metadata": {},
   "source": [
    "2)Describe the difference between the effects of \"(ab)c+\" and \"a(bc)+.\" Which of these, if any, is the unqualified\n",
    "pattern \"abc+\"?\n",
    "Ans)\"(ab)c+\" gives (ab)c and + gives one or more.\n",
    "\"a(bc)+.\" gives a(bc) and + is one or moreand . gives any character except new line."
   ]
  },
  {
   "cell_type": "raw",
   "id": "6b2d67b6",
   "metadata": {},
   "source": [
    "3)How much do you need to use the following sentence while using regular expressions?import re\n",
    "Ans)import re is used at the beginning of function.import re downloads all functions in it and makes available for\n",
    "the user."
   ]
  },
  {
   "cell_type": "raw",
   "id": "80ff36e7",
   "metadata": {},
   "source": [
    "4)Which characters have special significance in square brackets when expressing a range, and under what circumstances?\n",
    "Ans)backslash,hypen,anchor."
   ]
  },
  {
   "cell_type": "raw",
   "id": "5955b40c",
   "metadata": {},
   "source": [
    "5)How does compiling a regular-expression object benefit you?\n",
    "Ans)re.compile()"
   ]
  },
  {
   "cell_type": "raw",
   "id": "1c6e7ac1",
   "metadata": {},
   "source": [
    "6)What is the difference between using a vertical bar (|) as an alteration and using square brackets as a character set?\n",
    "Ans)Using a vertical bar (|) as an alteration means OR .\n",
    "Using square brackets as a character set means any character."
   ]
  },
  {
   "cell_type": "raw",
   "id": "7e313129",
   "metadata": {},
   "source": [
    "7) In regular-expression search patterns, why is it necessary to use the raw-string indicator (r)? \n",
    "In replacement strings?\n",
    "Ans)r means string which will be treated as raw string.\n"
   ]
  },
  {
   "cell_type": "code",
   "execution_count": null,
   "id": "c9b98141",
   "metadata": {},
   "outputs": [],
   "source": []
  }
 ],
 "metadata": {
  "kernelspec": {
   "display_name": "Python 3 (ipykernel)",
   "language": "python",
   "name": "python3"
  },
  "language_info": {
   "codemirror_mode": {
    "name": "ipython",
    "version": 3
   },
   "file_extension": ".py",
   "mimetype": "text/x-python",
   "name": "python",
   "nbconvert_exporter": "python",
   "pygments_lexer": "ipython3",
   "version": "3.9.7"
  }
 },
 "nbformat": 4,
 "nbformat_minor": 5
}
