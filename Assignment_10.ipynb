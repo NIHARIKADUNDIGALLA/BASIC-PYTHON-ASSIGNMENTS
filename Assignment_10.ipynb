{
 "cells": [
  {
   "cell_type": "raw",
   "id": "3039c49e",
   "metadata": {},
   "source": [
    "1)How do you distinguish between shutil.copy() and shutil.copytree()?\n",
    "\n",
    "Ans)shutil.copy() will copy a file and shutil.copytree() will copy entire folder."
   ]
  },
  {
   "cell_type": "raw",
   "id": "6b89824b",
   "metadata": {},
   "source": [
    "2)What function is used to rename files??\n",
    "\n",
    "Ans)os.rename()"
   ]
  },
  {
   "cell_type": "raw",
   "id": "03bf93af",
   "metadata": {},
   "source": [
    "3)What is the difference between the delete functions in the send2trash and shutil modules?\n",
    "\n",
    "Ans)send2trash will send the files or folders to the trash and shutil will permanently remove the files or folders."
   ]
  },
  {
   "cell_type": "code",
   "execution_count": null,
   "id": "088538f9",
   "metadata": {},
   "outputs": [],
   "source": []
  },
  {
   "cell_type": "code",
   "execution_count": null,
   "id": "9b9d39fb",
   "metadata": {},
   "outputs": [],
   "source": []
  }
 ],
 "metadata": {
  "kernelspec": {
   "display_name": "Python 3 (ipykernel)",
   "language": "python",
   "name": "python3"
  },
  "language_info": {
   "codemirror_mode": {
    "name": "ipython",
    "version": 3
   },
   "file_extension": ".py",
   "mimetype": "text/x-python",
   "name": "python",
   "nbconvert_exporter": "python",
   "pygments_lexer": "ipython3",
   "version": "3.9.7"
  }
 },
 "nbformat": 4,
 "nbformat_minor": 5
}
