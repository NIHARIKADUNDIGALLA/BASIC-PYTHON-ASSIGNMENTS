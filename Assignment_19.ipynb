{
 "cells": [
  {
   "cell_type": "code",
   "execution_count": 7,
   "id": "14dbba4f",
   "metadata": {},
   "outputs": [
    {
     "name": "stdout",
     "output_type": "stream",
     "text": [
      "\n",
      "My name is: Niharika\n"
     ]
    }
   ],
   "source": [
    "#1)Make a class called Thing with no contents and print it. Then, create an object called example from this class and \n",
    "#also print it. Are the printed values the same or different?\n",
    "#Ans)\n",
    "\n",
    "class Thing:\n",
    "    print()\n",
    "    \n",
    "    def example(self,name):\n",
    "        self.name=name\n",
    "        print(\"My name is:\",self.name)\n",
    "        \n",
    "    \n",
    "obj=Thing()\n",
    "obj.example(\"Niharika\")"
   ]
  },
  {
   "cell_type": "code",
   "execution_count": 8,
   "id": "8729474b",
   "metadata": {},
   "outputs": [
    {
     "name": "stdout",
     "output_type": "stream",
     "text": [
      "The letters is : abc\n"
     ]
    }
   ],
   "source": [
    "#2) Create a new class called Thing2 and add the value 'abc' to the letters class attribute. Letters should be printed.\n",
    "#Ans)\n",
    "\n",
    "class Thing2:\n",
    "    def __init__(self,letters):\n",
    "        self.letters=letters\n",
    "        print(\"The letters is :\",self.letters)\n",
    "        \n",
    "obj1=Thing2(\"abc\")\n",
    "        "
   ]
  },
  {
   "cell_type": "code",
   "execution_count": 13,
   "id": "83721b4c",
   "metadata": {},
   "outputs": [
    {
     "name": "stdout",
     "output_type": "stream",
     "text": [
      "xyz\n"
     ]
    }
   ],
   "source": [
    "#3)Make yet another class called, of course, Thing3. This time, assign the value 'xyz' to an instance (object) \n",
    "#attribute called letters. Print letters. Do you need to make an object from the class to do this?\n",
    "#Ans)\n",
    "\n",
    "class Thing3:\n",
    "    def __init__(self):\n",
    "        self.letters='xyz' ###instance attribute\n",
    "        \n",
    "    def show(self):\n",
    "        print(self.letters)\n",
    "        \n",
    "        \n",
    "obj2=Thing3()\n",
    "obj2.show()"
   ]
  },
  {
   "cell_type": "code",
   "execution_count": 23,
   "id": "8f0f7c20",
   "metadata": {},
   "outputs": [
    {
     "name": "stdout",
     "output_type": "stream",
     "text": [
      "The name is Hydrogen ,symbol is H and number is 1\n"
     ]
    }
   ],
   "source": [
    "#4)Create an Element class with the instance attributes name, symbol, and number. Create a class object with the\n",
    "#values 'Hydrogen,' 'H,' and 1.\n",
    "#Ans)\n",
    "\n",
    "class Element():\n",
    "    def __init__(self,name,symbol,number):\n",
    "        self.name=name\n",
    "        self.symbol=symbol\n",
    "        self.number=number\n",
    "        \n",
    "    def __str__(self):  \n",
    "        return \"The name is %s ,symbol is %s and number is %d\" % (self.name,self.symbol,self.number)\n",
    "\n",
    "obj3=Element('Hydrogen','H',1)\n",
    "print(obj3)"
   ]
  },
  {
   "cell_type": "code",
   "execution_count": 32,
   "id": "ef3de39e",
   "metadata": {},
   "outputs": [
    {
     "name": "stdout",
     "output_type": "stream",
     "text": [
      "{'name': 'Hydrogen', 'symbol': 'H', 'number': 1}\n"
     ]
    }
   ],
   "source": [
    "#5)Make a dictionary with these keys and values: 'name': 'Hydrogen', 'symbol': 'H', 'number': 1. \n",
    "#Then, create an object called hydrogen from class Element using this dictionary.\n",
    "#Ans)\n",
    "\n",
    "\n",
    "class Element():\n",
    "    def __init__(self):\n",
    "        self.d={'name': 'Hydrogen', 'symbol': 'H', 'number': 1}\n",
    "    \n",
    "    def __str__(self):\n",
    "        return \"{'name': 'Hydrogen', 'symbol': 'H', 'number': 1}\"\n",
    "hydrogen=Element()\n",
    "print(hydrogen)\n",
    "    "
   ]
  },
  {
   "cell_type": "code",
   "execution_count": 11,
   "id": "82601c5c",
   "metadata": {},
   "outputs": [
    {
     "data": {
      "text/plain": [
       "'The name is Hydrogen ,symbol is H and number is 1'"
      ]
     },
     "execution_count": 11,
     "metadata": {},
     "output_type": "execute_result"
    }
   ],
   "source": [
    "#6)For the Element class, define a method called dump() that prints the values of the object’s attributes\n",
    "#(name, symbol, and number). Create the hydrogen object from this new definition and use dump() to print its attributes.\n",
    "#Ans)\n",
    "\n",
    "class Element:\n",
    "    def __init__(self,name,symbol,number):\n",
    "        self.name=name\n",
    "        self.symbol=symbol\n",
    "        self.number=number\n",
    "        \n",
    "    def dump(self):\n",
    "        return \"The name is %s ,symbol is %s and number is %d\" % (self.name,self.symbol,self.number)\n",
    "    \n",
    "    \n",
    "    \n",
    "hydrogen=Element('Hydrogen','H',1)\n",
    "hydrogen.dump()"
   ]
  },
  {
   "cell_type": "code",
   "execution_count": 12,
   "id": "d300fee3",
   "metadata": {},
   "outputs": [
    {
     "name": "stdout",
     "output_type": "stream",
     "text": [
      "The name is Hydrogen ,symbol is H and number is 1\n"
     ]
    }
   ],
   "source": [
    "#7)Call print(hydrogen). In the definition of Element, change the name of method dump to __str__, create a new hydrogen\n",
    "#object, and call print(hydrogen) again.\n",
    "#Ans)\n",
    "\n",
    "class Element:\n",
    "    def __init__(self,name,symbol,number):\n",
    "        self.name=name\n",
    "        self.symbol=symbol\n",
    "        self.number=number\n",
    "        \n",
    "    def __str__(self):\n",
    "        return \"The name is %s ,symbol is %s and number is %d\" % (self.name,self.symbol,self.number)\n",
    "    \n",
    "    \n",
    "    \n",
    "hydrogen=Element('Hydrogen','H',1)\n",
    "print(hydrogen)"
   ]
  },
  {
   "cell_type": "code",
   "execution_count": 14,
   "id": "765fd19c",
   "metadata": {},
   "outputs": [
    {
     "data": {
      "text/plain": [
       "'The name is Hydrogen ,symbol is H and number is 1'"
      ]
     },
     "execution_count": 14,
     "metadata": {},
     "output_type": "execute_result"
    }
   ],
   "source": [
    "#8)Modify Element to make the attributes name, symbol, and number private. Define a getter property for each to \n",
    "#return its value.\n",
    "#Ans)\n",
    "\n",
    "class Element:\n",
    "    def __init__(self,name,symbol,number):\n",
    "        self.__name=name\n",
    "        self.__symbol=symbol\n",
    "        self.__number=number\n",
    "        \n",
    "    def getter(self):\n",
    "        return \"The name is %s ,symbol is %s and number is %d\" % (self.__name,self.__symbol,self.__number)\n",
    "    \n",
    "    \n",
    "    \n",
    "hydrogen=Element('Hydrogen','H',1)\n",
    "hydrogen.getter()"
   ]
  },
  {
   "cell_type": "code",
   "execution_count": 18,
   "id": "9aae7c7b",
   "metadata": {},
   "outputs": [
    {
     "name": "stdout",
     "output_type": "stream",
     "text": [
      "Bear eats berries , Rabbit eats clover and Octothrope eats campers. \n"
     ]
    }
   ],
   "source": [
    "#9)Define three classes: Bear, Rabbit, and Octothorpe. For each, define only one method: eats().\n",
    "#This should return 'berries' (Bear), 'clover' (Rabbit), or 'campers' (Octothorpe).\n",
    "#Create one object from each and print what it eats.\n",
    "#Ans)\n",
    "\n",
    "class Bear:\n",
    "    def eats():\n",
    "        print()\n",
    "        \n",
    "    def __str__(self):\n",
    "        return \"berries\"\n",
    "    \n",
    "class Rabbit:\n",
    "    def eats():\n",
    "        print()\n",
    "        \n",
    "    def __str__(self):  \n",
    "        return \"clover\"\n",
    "    \n",
    "class Octothrope:\n",
    "    def eats():\n",
    "        print()\n",
    "        \n",
    "    def __str__(self):\n",
    "        return \"campers\"\n",
    "    \n",
    "class all:\n",
    "    def __init__(self,Bear,Rabbit,Octothrope):\n",
    "        self.Bear=Bear\n",
    "        self.Rabbit=Rabbit\n",
    "        self.Octothrope=Octothrope\n",
    "        \n",
    "    def __str__(self):\n",
    "        return \"Bear eats %s , Rabbit eats %s and Octothrope eats %s. \" % (self.Bear,self.Rabbit,self.Octothrope)\n",
    "    \n",
    "    \n",
    "b=Bear()\n",
    "r=Rabbit()\n",
    "o=Octothrope()\n",
    "a=all(b,r,o)\n",
    "print(a)\n",
    "    "
   ]
  },
  {
   "cell_type": "code",
   "execution_count": 3,
   "id": "c7373298",
   "metadata": {},
   "outputs": [
    {
     "name": "stdout",
     "output_type": "stream",
     "text": [
      "Laser does disintegrate , Claw does crush and SmartPhone does ring. \n"
     ]
    }
   ],
   "source": [
    "#10)Define these classes: Laser, Claw, and SmartPhone. Each has only one method: does(). \n",
    "#This returns 'disintegrate' (Laser), 'crush' (Claw), or 'ring' (SmartPhone). \n",
    "#Then, define the class Robot that has one instance (object) of each of these. \n",
    "#Define a does() method for the Robot that prints what its component objects do.\n",
    "#Ans)\n",
    "\n",
    "class Laser:\n",
    "    def does():\n",
    "        print()\n",
    "        \n",
    "    def __str__(self):\n",
    "        return \"disintegrate\"\n",
    "    \n",
    "class Claw:\n",
    "    def does():\n",
    "        print()\n",
    "        \n",
    "    def __str__(self):  \n",
    "        return \"crush\"\n",
    "    \n",
    "class SmartPhone:\n",
    "    def does():\n",
    "        print()\n",
    "        \n",
    "    def __str__(self):\n",
    "        return \"ring\"\n",
    "    \n",
    "class Robot:\n",
    "    def __init__(self,Laser,Claw,SmartPhone):\n",
    "        self.Laser=Laser\n",
    "        self.Claw=Claw\n",
    "        self.SmartPhone=SmartPhone\n",
    "    \n",
    "    def __str__(self):\n",
    "        return \"Laser does %s , Claw does %s and SmartPhone does %s. \" % (self.Laser,self.Claw,self.SmartPhone)\n",
    "    \n",
    "    \n",
    "l=Laser()\n",
    "c=Claw()\n",
    "sp=SmartPhone()\n",
    "r=Robot(l,c,sp)\n",
    "print(r)\n",
    "    \n",
    "    "
   ]
  },
  {
   "cell_type": "code",
   "execution_count": null,
   "id": "c2ee683b",
   "metadata": {},
   "outputs": [],
   "source": []
  },
  {
   "cell_type": "code",
   "execution_count": null,
   "id": "bd121c1c",
   "metadata": {},
   "outputs": [],
   "source": []
  },
  {
   "cell_type": "code",
   "execution_count": null,
   "id": "86dcdba1",
   "metadata": {},
   "outputs": [],
   "source": []
  },
  {
   "cell_type": "code",
   "execution_count": null,
   "id": "d783cdf3",
   "metadata": {},
   "outputs": [],
   "source": []
  }
 ],
 "metadata": {
  "kernelspec": {
   "display_name": "Python 3 (ipykernel)",
   "language": "python",
   "name": "python3"
  },
  "language_info": {
   "codemirror_mode": {
    "name": "ipython",
    "version": 3
   },
   "file_extension": ".py",
   "mimetype": "text/x-python",
   "name": "python",
   "nbconvert_exporter": "python",
   "pygments_lexer": "ipython3",
   "version": "3.9.7"
  }
 },
 "nbformat": 4,
 "nbformat_minor": 5
}
