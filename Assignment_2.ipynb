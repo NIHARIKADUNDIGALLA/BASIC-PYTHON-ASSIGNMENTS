{
 "cells": [
  {
   "cell_type": "raw",
   "id": "108ba610",
   "metadata": {},
   "source": [
    "1)What are the two values of the boolean data type?How do you write them?\n",
    "\n",
    "Ans)The two values are 1 and 0.\n",
    "We write them as True , False."
   ]
  },
  {
   "cell_type": "raw",
   "id": "94f98bbd",
   "metadata": {},
   "source": [
    "2)What are the three different types of boolean operators?\n",
    "\n",
    "Ans)and , or , not."
   ]
  },
  {
   "cell_type": "raw",
   "id": "e37cbc12",
   "metadata": {},
   "source": [
    "3)Make a list of each boolean operators truth tables(i.e., every possible\n",
    "combination of boolean values for the operator and what it evalate).\n",
    "\n",
    "Ans)and -> if both are true -> true\n",
    "or -> if atleast one is true -> true\n",
    "not -> true -> false"
   ]
  },
  {
   "cell_type": "raw",
   "id": "55592b0d",
   "metadata": {},
   "source": [
    "4)What are the vales of the following expressions?\n",
    "(5>4) and (3==5)\n",
    "not(5>4)\n",
    "(5>4) or (3==5)\n",
    "not((5>4) or (3==5))\n",
    "((True and True) and (True == False))\n",
    "(not False) or (not True)\n",
    "\n",
    "Ans)False\n",
    "False\n",
    "True\n",
    "False\n",
    "False\n",
    "True"
   ]
  },
  {
   "cell_type": "raw",
   "id": "7f1146f0",
   "metadata": {},
   "source": [
    "5)What are six comparison operators?\n",
    "\n",
    "Ans)Greater than(>)\n",
    "Greater than or equal to(>=)\n",
    "Less than(<)\n",
    "Less than or equal to(<=)\n",
    "Equal to(==)\n",
    "Not equal to(!=)\n"
   ]
  },
  {
   "cell_type": "raw",
   "id": "c94b7c91",
   "metadata": {},
   "source": [
    "6)How do you tell the difference between the equal to and assignment operators?\n",
    "Describe a condition and when you would use one.\n",
    "\n",
    "Ans)Equal to operator is used to assign a value to the variable and assignment operator is used to check whether the \n",
    "given condition is true or not."
   ]
  },
  {
   "cell_type": "raw",
   "id": "81ee301e",
   "metadata": {},
   "source": [
    "7)Identify 3 blocks in this code.\n",
    "spam = 0\n",
    "if spam ==10:\n",
    "print('eggs')\n",
    "if spam>5:\n",
    "print('bacon')\n",
    "else:\n",
    "print('ham')\n",
    "print('spam')\n",
    "print('spam')\n",
    "\n",
    "Ans)block-1:\n",
    "spam = 0\n",
    "if spam ==10:\n",
    "print('eggs')\n",
    "\n",
    "block-2:\n",
    "if spam>5:\n",
    "print('bacon')\n",
    "else:\n",
    "print('ham')\n",
    "\n",
    "block-3:\n",
    "print('spam')\n",
    "print('spam')\n"
   ]
  },
  {
   "cell_type": "code",
   "execution_count": 10,
   "id": "e0b262fa",
   "metadata": {
    "scrolled": true
   },
   "outputs": [
    {
     "name": "stdout",
     "output_type": "stream",
     "text": [
      "Enter the spam value2\n",
      "Greetings!\n"
     ]
    }
   ],
   "source": [
    "#8)Write code that prints Hello if 1 is stored in spam, prints Howdy if 2 is stored in spam, and prints Greetings !\n",
    "#if anything else is stored in spam.\n",
    "\n",
    "#Ans)\n",
    "n=int(input(\"Enter the spam value\"))\n",
    "\n",
    "if spam==1:\n",
    "    print(\"Hello\")\n",
    "elif spam==2:\n",
    "    print(\"Howdy\")\n",
    "else:\n",
    "    print(\"Greetings!\")\n"
   ]
  },
  {
   "cell_type": "raw",
   "id": "3bd092ed",
   "metadata": {},
   "source": [
    "9)If your programme is stuck in an endless loop, what keys you'll press?\n",
    "\n",
    "Ans)I will interupt the kernel."
   ]
  },
  {
   "cell_type": "raw",
   "id": "2c4391dc",
   "metadata": {},
   "source": [
    "10)How can you tell the difference between break and continue?\n",
    "\n",
    "Ans)break statement stops execution of the loop once the condition is satisfied.\n",
    "And starts execution other loop if it exists.\n",
    "continue statement continues the loop for execution if it is true."
   ]
  },
  {
   "cell_type": "code",
   "execution_count": null,
   "id": "e51ac9d3",
   "metadata": {},
   "outputs": [],
   "source": [
    "11)In a for loop, what is the difference between range(10), range(0,10), \n",
    "and range(0,10,1)?\n",
    "\n",
    "Ans)range(10) gives 10 numbers from 0 to 9.\n",
    "range(0,10) gives the same output as range(10) ie., result is values from 0 to 9 where the starting number is 0 and \n",
    "ending number 10 doesnt print. Instead, prints till its before number ie., 9.\n",
    "range(0,10,1) gives values from 0 to 9 where 0 is starting number and ending number doesnt execute 10. Instead executes\n",
    "before number 9 by taking each step 1 ie., 0+1=1, 1+1=2, 2+1=3, 3+1=4 , and so on....upto 8+1=9."
   ]
  },
  {
   "cell_type": "code",
   "execution_count": 19,
   "id": "67c1e75f",
   "metadata": {},
   "outputs": [
    {
     "name": "stdout",
     "output_type": "stream",
     "text": [
      "1 2 3 4 5 6 7 8 9 10 "
     ]
    }
   ],
   "source": [
    "#12)Write a short program that prints the numbers 1 to 10 using a for loop.\n",
    "#Then write an equivalent program that prints the numbers 1 to 10 using a while loop.\n",
    "\n",
    "#Ans)using for loop:\n",
    "for i in range(1,11):\n",
    "    print(i,end=' ')\n",
    "    \n",
    "\n",
    "    "
   ]
  },
  {
   "cell_type": "code",
   "execution_count": 20,
   "id": "17d20fa0",
   "metadata": {},
   "outputs": [
    {
     "name": "stdout",
     "output_type": "stream",
     "text": [
      "1 2 3 4 5 6 7 8 9 10 "
     ]
    }
   ],
   "source": [
    "#using while loop:\n",
    "a=1\n",
    "while(a<11):\n",
    "    print(a,end=' ')\n",
    "    a=a+1"
   ]
  },
  {
   "cell_type": "raw",
   "id": "10b31dfb",
   "metadata": {},
   "source": [
    "13)If you had a function named bacon() inside a module named spam, how would you call it after importimg spam?\n",
    "\n",
    "Ans)bacon()"
   ]
  },
  {
   "cell_type": "code",
   "execution_count": null,
   "id": "70768e03",
   "metadata": {},
   "outputs": [],
   "source": []
  },
  {
   "cell_type": "code",
   "execution_count": null,
   "id": "6601bef4",
   "metadata": {},
   "outputs": [],
   "source": []
  },
  {
   "cell_type": "code",
   "execution_count": null,
   "id": "630709c8",
   "metadata": {},
   "outputs": [],
   "source": []
  },
  {
   "cell_type": "code",
   "execution_count": null,
   "id": "cd4dabd0",
   "metadata": {},
   "outputs": [],
   "source": []
  },
  {
   "cell_type": "code",
   "execution_count": null,
   "id": "d4dee1af",
   "metadata": {},
   "outputs": [],
   "source": []
  },
  {
   "cell_type": "code",
   "execution_count": null,
   "id": "3c721ffc",
   "metadata": {},
   "outputs": [],
   "source": []
  },
  {
   "cell_type": "code",
   "execution_count": null,
   "id": "0a8d89b5",
   "metadata": {},
   "outputs": [],
   "source": []
  },
  {
   "cell_type": "code",
   "execution_count": null,
   "id": "bf898ee1",
   "metadata": {},
   "outputs": [],
   "source": []
  },
  {
   "cell_type": "code",
   "execution_count": null,
   "id": "1cba1efe",
   "metadata": {},
   "outputs": [],
   "source": []
  },
  {
   "cell_type": "code",
   "execution_count": null,
   "id": "12ad4664",
   "metadata": {},
   "outputs": [],
   "source": []
  },
  {
   "cell_type": "code",
   "execution_count": null,
   "id": "b800ffb5",
   "metadata": {},
   "outputs": [],
   "source": []
  },
  {
   "cell_type": "code",
   "execution_count": null,
   "id": "0a0bab6e",
   "metadata": {},
   "outputs": [],
   "source": []
  },
  {
   "cell_type": "code",
   "execution_count": null,
   "id": "027cdc65",
   "metadata": {},
   "outputs": [],
   "source": []
  }
 ],
 "metadata": {
  "kernelspec": {
   "display_name": "Python 3 (ipykernel)",
   "language": "python",
   "name": "python3"
  },
  "language_info": {
   "codemirror_mode": {
    "name": "ipython",
    "version": 3
   },
   "file_extension": ".py",
   "mimetype": "text/x-python",
   "name": "python",
   "nbconvert_exporter": "python",
   "pygments_lexer": "ipython3",
   "version": "3.9.7"
  }
 },
 "nbformat": 4,
 "nbformat_minor": 5
}
