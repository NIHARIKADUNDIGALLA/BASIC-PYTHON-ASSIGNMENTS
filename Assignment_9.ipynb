{
 "cells": [
  {
   "cell_type": "raw",
   "id": "71268fea",
   "metadata": {},
   "source": [
    "1)To what does a relative path refer?\n",
    "\n",
    "Ans)Relative path refer to the present current directory working."
   ]
  },
  {
   "cell_type": "raw",
   "id": "a60e67e6",
   "metadata": {},
   "source": [
    "2)What does an absolute path start with your operating system?\n",
    "\n",
    "Ans)C:\\\\"
   ]
  },
  {
   "cell_type": "raw",
   "id": "85566dea",
   "metadata": {},
   "source": [
    "3)What do the functions os.getcwd() and os.chdir() do?\n",
    "\n",
    "Ans)os.getcwd() function returns the current working directory and os.chdir() function changes the directory."
   ]
  },
  {
   "cell_type": "raw",
   "id": "a2f886d2",
   "metadata": {},
   "source": [
    "4) What are the . and .. folders?\n",
    "\n",
    "Ans). is the current directory and .. is the parent directory."
   ]
  },
  {
   "cell_type": "raw",
   "id": "99fadf6e",
   "metadata": {},
   "source": [
    "5) In C:\\bacon\\eggs\\spam.txt, which part is the dir name, and which part is the base name?\n",
    "    \n",
    "Ans)C:\\bacon\\eggs is the directory name and spam.txt is the base name."
   ]
  },
  {
   "cell_type": "raw",
   "id": "f6fe7fc3",
   "metadata": {},
   "source": [
    "6) What are the three “mode” arguments that can be passed to the open() function?\n",
    "\n",
    "Ans)r:which only reads the files.\n",
    "    r+:reads and writes in the file.\n",
    "    w:writes in the file."
   ]
  },
  {
   "cell_type": "raw",
   "id": "b984e3c6",
   "metadata": {},
   "source": [
    "7)What happens if an existing file is opened in write mode?\n",
    "\n",
    "Ans)if an existing file is opened in write mode , then the information contains in the file is wiped out and new \n",
    "information is added in the file."
   ]
  },
  {
   "cell_type": "raw",
   "id": "0b6c20bc",
   "metadata": {},
   "source": [
    "8)How do you tell the difference between read() and readlines()?\n",
    "\n",
    "Ans)readlines() : It reads whole file content at a time.\n",
    "    read() : It reads single line at a time"
   ]
  },
  {
   "cell_type": "raw",
   "id": "ef77553e",
   "metadata": {},
   "source": [
    "9)What data structure does a shelf value resemble?\n",
    "\n",
    "Ans)The data structure of a shelf value resemble is dictionary which contains key and value. "
   ]
  },
  {
   "cell_type": "code",
   "execution_count": null,
   "id": "30fec245",
   "metadata": {},
   "outputs": [],
   "source": []
  },
  {
   "cell_type": "code",
   "execution_count": null,
   "id": "c99b0f85",
   "metadata": {},
   "outputs": [],
   "source": []
  },
  {
   "cell_type": "code",
   "execution_count": null,
   "id": "84544e66",
   "metadata": {},
   "outputs": [],
   "source": []
  }
 ],
 "metadata": {
  "kernelspec": {
   "display_name": "Python 3 (ipykernel)",
   "language": "python",
   "name": "python3"
  },
  "language_info": {
   "codemirror_mode": {
    "name": "ipython",
    "version": 3
   },
   "file_extension": ".py",
   "mimetype": "text/x-python",
   "name": "python",
   "nbconvert_exporter": "python",
   "pygments_lexer": "ipython3",
   "version": "3.9.7"
  }
 },
 "nbformat": 4,
 "nbformat_minor": 5
}
