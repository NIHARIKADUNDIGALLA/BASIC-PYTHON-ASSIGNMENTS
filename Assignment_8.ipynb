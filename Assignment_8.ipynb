{
 "cells": [
  {
   "cell_type": "raw",
   "id": "abc4d6e8",
   "metadata": {},
   "source": [
    "1) Is the Python Standard Library included with PyInputPlus?\n",
    "\n",
    "Ans)No"
   ]
  },
  {
   "cell_type": "raw",
   "id": "ab766e35",
   "metadata": {},
   "source": [
    "2)Why is PyInputPlus commonly imported with import pyinputplus as pypi?\n",
    "\n",
    "Ans)We use import pyinputplus as pypi as a shortcut name,so that it is easier to call the method's functions."
   ]
  },
  {
   "cell_type": "raw",
   "id": "caf5e2bb",
   "metadata": {},
   "source": [
    "3)How do you distinguish between inputInt() and inputFloat()?\n",
    "\n",
    "Ans)inputInt() takes the integer value from the user.\n",
    "inputFloat() takes the decimal value from the user."
   ]
  },
  {
   "cell_type": "raw",
   "id": "a189ca19",
   "metadata": {},
   "source": [
    "4)Using PyInputPlus, how do you ensure that the user enters a whole number between 0 and 99?\n",
    "\n",
    "Ans)by keeping values greater than 0 and less than 99 by using inputNum() function."
   ]
  },
  {
   "cell_type": "raw",
   "id": "c91231ed",
   "metadata": {},
   "source": [
    "5) If a blank input is entered three times, what does inputStr(limit=3) do?\n",
    "\n",
    "Ans)It raises TimeOutException."
   ]
  },
  {
   "cell_type": "raw",
   "id": "0903b4d5",
   "metadata": {},
   "source": [
    "6) If blank input is entered three times, what does inputStr(limit=3, default='hello') do?\n",
    "\n",
    "Ans)It returns hello."
   ]
  },
  {
   "cell_type": "code",
   "execution_count": null,
   "id": "e40f5d19",
   "metadata": {},
   "outputs": [],
   "source": []
  }
 ],
 "metadata": {
  "kernelspec": {
   "display_name": "Python 3 (ipykernel)",
   "language": "python",
   "name": "python3"
  },
  "language_info": {
   "codemirror_mode": {
    "name": "ipython",
    "version": 3
   },
   "file_extension": ".py",
   "mimetype": "text/x-python",
   "name": "python",
   "nbconvert_exporter": "python",
   "pygments_lexer": "ipython3",
   "version": "3.9.7"
  }
 },
 "nbformat": 4,
 "nbformat_minor": 5
}
