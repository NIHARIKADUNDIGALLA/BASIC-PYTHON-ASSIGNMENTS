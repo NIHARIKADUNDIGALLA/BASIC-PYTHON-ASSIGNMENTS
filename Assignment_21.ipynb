{
 "cells": [
  {
   "cell_type": "code",
   "execution_count": 7,
   "id": "d28dc244",
   "metadata": {},
   "outputs": [
    {
     "data": {
      "text/plain": [
       "'current date is 31-01-2022'"
      ]
     },
     "execution_count": 7,
     "metadata": {},
     "output_type": "execute_result"
    }
   ],
   "source": [
    "#1)Add the current date to the text file today.txt as a string.\n",
    "#Ans)\n",
    "\n",
    "\n",
    "f=open(\"today.txt\",'w')\n",
    "f.write(\"current date is 31-01-2022\")\n",
    "f.close()\n",
    "\n",
    "f=open(\"today.txt\",'r')\n",
    "f.read()"
   ]
  },
  {
   "cell_type": "code",
   "execution_count": 8,
   "id": "f09eb7d7",
   "metadata": {},
   "outputs": [
    {
     "data": {
      "text/plain": [
       "'current date is 31-01-2022'"
      ]
     },
     "execution_count": 8,
     "metadata": {},
     "output_type": "execute_result"
    }
   ],
   "source": [
    "#2) Read the text file today.txt into the string today_string\n",
    "#Ans)\n",
    "\n",
    "f=open(\"today.txt\",'r')\n",
    "today_string=f.read()\n",
    "today_string"
   ]
  },
  {
   "cell_type": "code",
   "execution_count": 9,
   "id": "9ee7f37a",
   "metadata": {},
   "outputs": [
    {
     "data": {
      "text/plain": [
       "'30/01/2022'"
      ]
     },
     "execution_count": 9,
     "metadata": {},
     "output_type": "execute_result"
    }
   ],
   "source": [
    "#3)Parse the date from today_string.\n",
    "#Ans)\n",
    "\n",
    "import datetime\n",
    "datetime.datetime.strptime('Jan 30 2022','%b %d %Y').strftime('%d/%m/%Y')"
   ]
  },
  {
   "cell_type": "code",
   "execution_count": 10,
   "id": "4dd1f887",
   "metadata": {},
   "outputs": [
    {
     "name": "stdout",
     "output_type": "stream",
     "text": [
      " Volume in drive C has no label.\n",
      " Volume Serial Number is 02E1-50FC\n",
      "\n",
      " Directory of C:\\Users\\Dniharika\\iNEURON\\ASSIGNMENT QUESTIONS\\PYTHON\\BASIC PYTHON ASSIGNMENT QUESTIONS\n",
      "\n",
      "31-Jan-22  10:17 PM    <DIR>          .\n",
      "31-Jan-22  10:17 PM    <DIR>          ..\n",
      "30-Jan-22  09:52 PM    <DIR>          .ipynb_checkpoints\n",
      "28-Jan-22  02:14 PM    <DIR>          __pycache__\n",
      "02-Jan-22  11:15 PM             3,208 Assignment_1.ipynb\n",
      "18-Jan-22  04:34 PM             1,492 Assignment_10(incomplete).ipynb\n",
      "18-Jan-22  09:03 PM             9,781 Assignment_11(incomplete).ipynb\n",
      "21-Jan-22  03:52 PM             3,565 Assignment_12.ipynb\n",
      "22-Jan-22  12:04 PM            43,147 Assignment_13.ipynb\n",
      "22-Jan-22  02:07 PM             5,790 Assignment_14.ipynb\n",
      "22-Jan-22  03:36 PM             1,932 Assignment_15.ipynb\n",
      "22-Jan-22  04:19 PM             2,634 Assignment_16.ipynb\n",
      "28-Jan-22  04:37 PM             8,362 Assignment_17.ipynb\n",
      "28-Jan-22  03:18 PM             4,057 Assignment_18.ipynb\n",
      "29-Jan-22  08:23 PM            11,240 Assignment_19.ipynb\n",
      "16-Jan-22  12:11 PM             8,084 Assignment_2.ipynb\n",
      "30-Jan-22  03:16 PM             3,697 Assignment_20(incomplete).ipynb\n",
      "31-Jan-22  10:17 PM             7,076 Assignment_21.ipynb\n",
      "30-Jan-22  08:28 PM             4,376 Assignment_22.ipynb\n",
      "31-Jan-22  10:10 PM             2,838 Assignment_23.ipynb\n",
      "30-Jan-22  09:53 PM               588 Assignment_24.ipynb\n",
      "30-Jan-22  09:52 PM             2,099 Assignment_25.ipynb\n",
      "31-Jan-22  10:06 PM             5,061 Assignment_3.ipynb\n",
      "16-Jan-22  06:18 PM             4,757 Assignment_4.ipynb\n",
      "16-Jan-22  06:17 PM             2,852 Assignment_5.ipynb\n",
      "16-Jan-22  08:53 PM             2,759 Assignment_6.ipynb\n",
      "18-Jan-22  01:59 PM             4,081 Assignment_7.ipynb\n",
      "18-Jan-22  02:40 PM             2,115 Assignment_8.ipynb\n",
      "18-Jan-22  04:25 PM             3,260 Assignment_9.ipynb\n",
      "30-Jan-22  03:15 PM               213 books.csv\n",
      "30-Jan-22  03:14 PM                51 test.txt\n",
      "31-Jan-22  10:17 PM                26 today.txt\n",
      "28-Jan-22  02:14 PM                41 zoo.py\n",
      "              29 File(s)        149,182 bytes\n",
      "               4 Dir(s)  18,632,290,304 bytes free\n"
     ]
    }
   ],
   "source": [
    "#4)List the files in your current directory\n",
    "#Ans)\n",
    "\n",
    "%ls"
   ]
  },
  {
   "cell_type": "code",
   "execution_count": 11,
   "id": "4308b11c",
   "metadata": {},
   "outputs": [
    {
     "data": {
      "text/plain": [
       "['.ipynb_checkpoints',\n",
       " 'ASSIGNMENT QUESTIONS',\n",
       " 'DATA BASES',\n",
       " 'EDA',\n",
       " 'PYTHON BASICS',\n",
       " 'STATISTICS']"
      ]
     },
     "execution_count": 11,
     "metadata": {},
     "output_type": "execute_result"
    }
   ],
   "source": [
    "#5)Create a list of all of the files in your parent directory (minimum five files should be available).\n",
    "#Ans)\n",
    "\n",
    "import os\n",
    "os.listdir(\"C://Users//Dniharika//iNEURON\")"
   ]
  },
  {
   "cell_type": "code",
   "execution_count": 12,
   "id": "9f2450e7",
   "metadata": {},
   "outputs": [
    {
     "ename": "NameError",
     "evalue": "name 'data_obj' is not defined",
     "output_type": "error",
     "traceback": [
      "\u001b[1;31m---------------------------------------------------------------------------\u001b[0m",
      "\u001b[1;31mNameError\u001b[0m                                 Traceback (most recent call last)",
      "\u001b[1;32mC:\\Users\\DNIHAR~1\\AppData\\Local\\Temp/ipykernel_7196/4142509867.py\u001b[0m in \u001b[0;36m<module>\u001b[1;34m\u001b[0m\n\u001b[0;32m      4\u001b[0m \u001b[1;32mimport\u001b[0m \u001b[0mdatetime\u001b[0m\u001b[1;33m\u001b[0m\u001b[1;33m\u001b[0m\u001b[0m\n\u001b[0;32m      5\u001b[0m \u001b[0mdate_obj\u001b[0m\u001b[1;33m=\u001b[0m\u001b[0mdatetime\u001b[0m\u001b[1;33m.\u001b[0m\u001b[0mdate\u001b[0m\u001b[1;33m(\u001b[0m\u001b[1;36m1999\u001b[0m\u001b[1;33m,\u001b[0m\u001b[1;36m6\u001b[0m\u001b[1;33m,\u001b[0m\u001b[1;36m14\u001b[0m\u001b[1;33m)\u001b[0m\u001b[1;33m\u001b[0m\u001b[1;33m\u001b[0m\u001b[0m\n\u001b[1;32m----> 6\u001b[1;33m \u001b[0mdata_obj\u001b[0m\u001b[1;33m\u001b[0m\u001b[1;33m\u001b[0m\u001b[0m\n\u001b[0m",
      "\u001b[1;31mNameError\u001b[0m: name 'data_obj' is not defined"
     ]
    }
   ],
   "source": [
    "#6) Create a date object of your day of birth.\n",
    "#Ans)\n",
    "\n",
    "import datetime  \n",
    "date_obj=datetime.date(1999,6,14) \n",
    "data_obj"
   ]
  },
  {
   "cell_type": "code",
   "execution_count": 13,
   "id": "11bd3d67",
   "metadata": {},
   "outputs": [
    {
     "name": "stdout",
     "output_type": "stream",
     "text": [
      "Monday\n"
     ]
    }
   ],
   "source": [
    "#7)What day of the week was your day of birth?\n",
    "#Ans)\n",
    "\n",
    "import datetime\n",
    "import calendar\n",
    " \n",
    "def findDay(date):\n",
    "    born = datetime.datetime.strptime(date, '%d %m %Y').weekday()\n",
    "    return (calendar.day_name[born])\n",
    " \n",
    "# Driver program\n",
    "date = '14 06 1999'\n",
    "print(findDay(date))"
   ]
  },
  {
   "cell_type": "code",
   "execution_count": null,
   "id": "9a5a4126",
   "metadata": {},
   "outputs": [],
   "source": []
  },
  {
   "cell_type": "code",
   "execution_count": null,
   "id": "ce1f853c",
   "metadata": {},
   "outputs": [],
   "source": []
  }
 ],
 "metadata": {
  "kernelspec": {
   "display_name": "Python 3 (ipykernel)",
   "language": "python",
   "name": "python3"
  },
  "language_info": {
   "codemirror_mode": {
    "name": "ipython",
    "version": 3
   },
   "file_extension": ".py",
   "mimetype": "text/x-python",
   "name": "python",
   "nbconvert_exporter": "python",
   "pygments_lexer": "ipython3",
   "version": "3.9.7"
  }
 },
 "nbformat": 4,
 "nbformat_minor": 5
}
