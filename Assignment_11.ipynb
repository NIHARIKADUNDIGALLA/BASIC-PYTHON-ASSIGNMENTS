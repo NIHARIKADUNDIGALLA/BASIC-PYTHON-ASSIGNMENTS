{
 "cells": [
  {
   "cell_type": "code",
   "execution_count": 23,
   "id": "d86f091c",
   "metadata": {},
   "outputs": [
    {
     "name": "stdout",
     "output_type": "stream",
     "text": [
      "Enter integer greater than 10:-2\n",
      "The spam variable is less than 10.\n"
     ]
    }
   ],
   "source": [
    "#1) Create an assert statement that throws an AssertionError if the variable spam is a negative integer.\n",
    "\n",
    "#Ans)\n",
    "spam=int(input(\"Enter integer greater than 10:\"))\n",
    "\n",
    "def func(spam):\n",
    "    try:\n",
    "        assert spam>=10,'The spam variable is less than 10.'\n",
    "        return \"Given input is correct\"\n",
    "    except AssertionError as msg:\n",
    "        print(msg)\n",
    "    \n",
    "   \n",
    "func(spam)\n",
    "    "
   ]
  },
  {
   "cell_type": "code",
   "execution_count": 59,
   "id": "204c0054",
   "metadata": {},
   "outputs": [
    {
     "ename": "SyntaxError",
     "evalue": "invalid syntax (Temp/ipykernel_4152/1150907470.py, line 9)",
     "output_type": "error",
     "traceback": [
      "\u001b[1;36m  File \u001b[1;32m\"C:\\Users\\DNIHAR~1\\AppData\\Local\\Temp/ipykernel_4152/1150907470.py\"\u001b[1;36m, line \u001b[1;32m9\u001b[0m\n\u001b[1;33m    assert eggs.lower()!=bacon.lower(),'The eggs and bacon variables are the same!' or assert eggs.upper()!=bacon.upper(),'The eggs and bacon variables are the same!'\u001b[0m\n\u001b[1;37m                                                                                       ^\u001b[0m\n\u001b[1;31mSyntaxError\u001b[0m\u001b[1;31m:\u001b[0m invalid syntax\n"
     ]
    }
   ],
   "source": [
    "#2)Write an assert statement that triggers an AssertionError if the variables eggs and bacon contain strings that are \n",
    "#the same as each other, even if their cases are different (that is, 'hello' and 'hello' are considered the same, \n",
    "#and 'goodbye' and 'GOODbye' are also considered the same).\n",
    "\n",
    "def func1():\n",
    "    try:\n",
    "        eggs=str(input(\"Enter the input:\"))\n",
    "        bacon=str(input(\"Enter the input:\"))\n",
    "        assert eggs.lower()!=bacon.lower(),'The eggs and bacon variables are the same!' or assert eggs.upper()!=bacon.upper(),'The eggs and bacon variables are the same!'\n",
    "       \n",
    "    except AssertionError as msg:\n",
    "        print(msg)\n",
    "        \n",
    "func1()"
   ]
  },
  {
   "cell_type": "raw",
   "id": "3b947077",
   "metadata": {},
   "source": [
    "3) Create an assert statement that throws an AssertionError every time.\n",
    "\n",
    "Ans)assert(False,'This gives AssertionError every time')"
   ]
  },
  {
   "cell_type": "raw",
   "id": "51ced33d",
   "metadata": {},
   "source": [
    "4) What are the two lines that must be present in your software in order to call logging.debug()?\n",
    "\n",
    "Ans)import logging \n",
    "logging.basicConfig(filename,level=logging.DEBUG,format='%(asctime)s %(levelname)s %(message)s')\n"
   ]
  },
  {
   "cell_type": "raw",
   "id": "6d8d36b9",
   "metadata": {},
   "source": [
    "5)What are the two lines that your program must have in order to have logging.debug() send a logging message to a \n",
    "file named programLog.txt?\n",
    "\n",
    "Ans)import logging \n",
    "logging.basicConfig(filename='programLog.txt',level=logging.DEBUG,format='%(asctime)s %(levelname)s %(message)s')\n"
   ]
  },
  {
   "cell_type": "raw",
   "id": "5096ba17",
   "metadata": {},
   "source": [
    "6)What are the five levels of logging?\n",
    "\n",
    "Ans)INFO,DEBUG,WARNING,ERROR,CRITICAL"
   ]
  },
  {
   "cell_type": "raw",
   "id": "62844262",
   "metadata": {},
   "source": [
    "7)What line of code would you add to your software to disable all logging messages?\n",
    "\n",
    "Ans)logging.disable(logging.CRITICAL)"
   ]
  },
  {
   "cell_type": "raw",
   "id": "568f811d",
   "metadata": {},
   "source": [
    "8)Why is using logging messages better than using print() to display the same message?\n",
    "\n",
    "Ans)logging messages gives timestamp."
   ]
  },
  {
   "cell_type": "raw",
   "id": "b0e9eb9e",
   "metadata": {},
   "source": [
    "9)After you click Continue, when will the debugger stop ?\n",
    "\n",
    "Ans)The debugger stops when the program reaches the end of the line or a breakpoint."
   ]
  },
  {
   "cell_type": "raw",
   "id": "cc7557fb",
   "metadata": {},
   "source": [
    "10)What is the concept of a breakpoint?\n",
    "\n",
    "Ans)Breakpoint is a concept which tells to pause the execution."
   ]
  },
  {
   "cell_type": "code",
   "execution_count": null,
   "id": "fe182edb",
   "metadata": {},
   "outputs": [],
   "source": []
  },
  {
   "cell_type": "code",
   "execution_count": null,
   "id": "8bc9192b",
   "metadata": {},
   "outputs": [],
   "source": []
  },
  {
   "cell_type": "code",
   "execution_count": null,
   "id": "5cf5252e",
   "metadata": {},
   "outputs": [],
   "source": []
  },
  {
   "cell_type": "code",
   "execution_count": null,
   "id": "849e4f9b",
   "metadata": {},
   "outputs": [],
   "source": []
  },
  {
   "cell_type": "code",
   "execution_count": null,
   "id": "8538e7e4",
   "metadata": {},
   "outputs": [],
   "source": []
  },
  {
   "cell_type": "code",
   "execution_count": null,
   "id": "3c969df2",
   "metadata": {},
   "outputs": [],
   "source": []
  },
  {
   "cell_type": "code",
   "execution_count": null,
   "id": "98f3d41c",
   "metadata": {},
   "outputs": [],
   "source": []
  },
  {
   "cell_type": "code",
   "execution_count": null,
   "id": "3050d019",
   "metadata": {},
   "outputs": [],
   "source": []
  },
  {
   "cell_type": "code",
   "execution_count": null,
   "id": "8d9f27f7",
   "metadata": {},
   "outputs": [],
   "source": []
  },
  {
   "cell_type": "code",
   "execution_count": null,
   "id": "fbc2bcdc",
   "metadata": {},
   "outputs": [],
   "source": []
  },
  {
   "cell_type": "code",
   "execution_count": null,
   "id": "a85d6194",
   "metadata": {},
   "outputs": [],
   "source": []
  },
  {
   "cell_type": "code",
   "execution_count": null,
   "id": "840ff4ce",
   "metadata": {},
   "outputs": [],
   "source": []
  },
  {
   "cell_type": "code",
   "execution_count": null,
   "id": "f1907f3c",
   "metadata": {},
   "outputs": [],
   "source": []
  },
  {
   "cell_type": "code",
   "execution_count": null,
   "id": "2e0aef82",
   "metadata": {},
   "outputs": [],
   "source": []
  },
  {
   "cell_type": "code",
   "execution_count": null,
   "id": "045a968a",
   "metadata": {},
   "outputs": [],
   "source": []
  },
  {
   "cell_type": "code",
   "execution_count": null,
   "id": "fc884d16",
   "metadata": {},
   "outputs": [],
   "source": []
  },
  {
   "cell_type": "code",
   "execution_count": null,
   "id": "b38e7d57",
   "metadata": {},
   "outputs": [],
   "source": []
  },
  {
   "cell_type": "code",
   "execution_count": null,
   "id": "fff73d6f",
   "metadata": {},
   "outputs": [],
   "source": []
  },
  {
   "cell_type": "code",
   "execution_count": null,
   "id": "d74c2ba4",
   "metadata": {},
   "outputs": [],
   "source": []
  },
  {
   "cell_type": "code",
   "execution_count": null,
   "id": "50886c29",
   "metadata": {},
   "outputs": [],
   "source": []
  },
  {
   "cell_type": "code",
   "execution_count": null,
   "id": "72d5a9bd",
   "metadata": {},
   "outputs": [],
   "source": []
  },
  {
   "cell_type": "code",
   "execution_count": null,
   "id": "d68d1d47",
   "metadata": {},
   "outputs": [],
   "source": []
  },
  {
   "cell_type": "code",
   "execution_count": null,
   "id": "c7146335",
   "metadata": {},
   "outputs": [],
   "source": []
  },
  {
   "cell_type": "code",
   "execution_count": null,
   "id": "b96076de",
   "metadata": {},
   "outputs": [],
   "source": []
  },
  {
   "cell_type": "code",
   "execution_count": null,
   "id": "3d5cd6d4",
   "metadata": {},
   "outputs": [],
   "source": []
  },
  {
   "cell_type": "code",
   "execution_count": null,
   "id": "d7453972",
   "metadata": {},
   "outputs": [],
   "source": []
  },
  {
   "cell_type": "code",
   "execution_count": null,
   "id": "48b15194",
   "metadata": {},
   "outputs": [],
   "source": []
  },
  {
   "cell_type": "code",
   "execution_count": null,
   "id": "ae543540",
   "metadata": {},
   "outputs": [],
   "source": []
  },
  {
   "cell_type": "code",
   "execution_count": null,
   "id": "a0bd012d",
   "metadata": {},
   "outputs": [],
   "source": []
  },
  {
   "cell_type": "code",
   "execution_count": null,
   "id": "06d27417",
   "metadata": {},
   "outputs": [],
   "source": []
  },
  {
   "cell_type": "code",
   "execution_count": null,
   "id": "44b036a2",
   "metadata": {},
   "outputs": [],
   "source": []
  }
 ],
 "metadata": {
  "kernelspec": {
   "display_name": "Python 3 (ipykernel)",
   "language": "python",
   "name": "python3"
  },
  "language_info": {
   "codemirror_mode": {
    "name": "ipython",
    "version": 3
   },
   "file_extension": ".py",
   "mimetype": "text/x-python",
   "name": "python",
   "nbconvert_exporter": "python",
   "pygments_lexer": "ipython3",
   "version": "3.9.7"
  }
 },
 "nbformat": 4,
 "nbformat_minor": 5
}
