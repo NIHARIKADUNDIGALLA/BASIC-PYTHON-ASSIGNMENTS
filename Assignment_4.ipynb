{
 "cells": [
  {
   "cell_type": "raw",
   "id": "c7c4bc85",
   "metadata": {},
   "source": [
    "1)What exactly is []?\n",
    "\n",
    "Ans)[] is used to store elements in list form."
   ]
  },
  {
   "cell_type": "raw",
   "id": "1d48d0f5",
   "metadata": {},
   "source": [
    "2)In a list of values stored in a variable called spam, how would you assign the value 'hello' as the third value?\n",
    "(Assume [2,4,6,8,10] are in spam.)\n",
    "\n",
    "Ans)spam[2]='hello'\n"
   ]
  },
  {
   "cell_type": "raw",
   "id": "41bdffec",
   "metadata": {},
   "source": [
    "3)Let's pretend the spam includes the list ['a', 'b', 'c', 'd'] for the next three queries.\n",
    "What is the value of spam[int(int('3' * 2) / 11)]?\n",
    "\n",
    "Ans)d\n"
   ]
  },
  {
   "cell_type": "raw",
   "id": "66b9bf05",
   "metadata": {},
   "source": [
    "4) What is the value of spam[-1]?\n",
    "\n",
    "Ans)d"
   ]
  },
  {
   "cell_type": "raw",
   "id": "8dd4dd77",
   "metadata": {},
   "source": [
    "5)What is the value of spam[:2]?\n",
    "\n",
    "Ans)[a,b]"
   ]
  },
  {
   "cell_type": "raw",
   "id": "b59ae5b3",
   "metadata": {},
   "source": [
    "6)Let's pretend bacon has the list [3.14, 'cat,' 11, 'cat,' True] for the next three questions.\n",
    "What is the value of bacon.index('cat')?\n",
    "\n",
    "Ans)1"
   ]
  },
  {
   "cell_type": "raw",
   "id": "32d3ad21",
   "metadata": {},
   "source": [
    "7) How does bacon.append(99) change the look of the list value in bacon?\n",
    "\n",
    "Ans)[3.14, 'cat', 11, 'cat', True, 99]"
   ]
  },
  {
   "cell_type": "raw",
   "id": "59732fdb",
   "metadata": {},
   "source": [
    "8)How does bacon.remove('cat') change the look of the list in bacon?\n",
    "\n",
    "Ans)[3.14, 11, True, 99]"
   ]
  },
  {
   "cell_type": "raw",
   "id": "c0a7ebef",
   "metadata": {},
   "source": [
    "9)What are the list concatenation and list replication operators?\n",
    "\n",
    "Ans)+ and *"
   ]
  },
  {
   "cell_type": "raw",
   "id": "ceb30a30",
   "metadata": {},
   "source": [
    "10)What is difference between the list methods append() and insert()?\n",
    "\n",
    "Ans)append() method adds the element at the end of the data structure(list,dict,set,tuple).\n",
    "insert() method adds the element at which ever position the user needs."
   ]
  },
  {
   "cell_type": "raw",
   "id": "9ca40ea6",
   "metadata": {},
   "source": [
    "11)What are the two methods for removing items from a list?\n",
    "\n",
    "Ans)remove() and pop()"
   ]
  },
  {
   "cell_type": "raw",
   "id": "04e54f04",
   "metadata": {},
   "source": [
    "12)Describe how list values and string values are identical.\n",
    "\n",
    "Ans)list and string are sequences."
   ]
  },
  {
   "cell_type": "raw",
   "id": "7a00f210",
   "metadata": {},
   "source": [
    "13)What's the difference between tuples and lists?\n",
    "\n",
    "Ans)lists are mutable and tuples are immutable.\n",
    "lists are denoted by [] and tuples are denoted by ().\n"
   ]
  },
  {
   "cell_type": "raw",
   "id": "fe3720f9",
   "metadata": {},
   "source": [
    "14)How do you type a tuple value that only contains the integer 42?\n",
    "\n",
    "Ans)t=(42)\n"
   ]
  },
  {
   "cell_type": "raw",
   "id": "7669eac8",
   "metadata": {},
   "source": [
    "15)How do you get a list values tuple form? How do you get a tuple value's list form?\n",
    "\n",
    "Ans)tuple(list)\n",
    "\n"
   ]
  },
  {
   "cell_type": "raw",
   "id": "d67d09c9",
   "metadata": {},
   "source": [
    "16)Variables that \"contain\" list values are not necessarily lists themselves. Instead, what do they contain?\n",
    "\n",
    "Ans)Variables contain references of lists."
   ]
  },
  {
   "cell_type": "raw",
   "id": "d3f0acb7",
   "metadata": {},
   "source": [
    "17)How do you distinguish between copy.copy() and copy.deepcopy()?\n",
    "\n",
    "Ans)copy.deepcopy() copies the values as it is.\n",
    "copy.copy() copies the values ,even if changes are made."
   ]
  },
  {
   "cell_type": "code",
   "execution_count": null,
   "id": "25d14fde",
   "metadata": {},
   "outputs": [],
   "source": []
  },
  {
   "cell_type": "code",
   "execution_count": null,
   "id": "7a987dcb",
   "metadata": {},
   "outputs": [],
   "source": []
  }
 ],
 "metadata": {
  "kernelspec": {
   "display_name": "Python 3 (ipykernel)",
   "language": "python",
   "name": "python3"
  },
  "language_info": {
   "codemirror_mode": {
    "name": "ipython",
    "version": 3
   },
   "file_extension": ".py",
   "mimetype": "text/x-python",
   "name": "python",
   "nbconvert_exporter": "python",
   "pygments_lexer": "ipython3",
   "version": "3.9.7"
  }
 },
 "nbformat": 4,
 "nbformat_minor": 5
}
